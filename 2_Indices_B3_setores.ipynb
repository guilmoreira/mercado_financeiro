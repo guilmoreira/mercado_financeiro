{
  "nbformat": 4,
  "nbformat_minor": 0,
  "metadata": {
    "colab": {
      "name": "2_Indices_B3_setores.ipynb",
      "provenance": [],
      "collapsed_sections": [
        "LzfwRwhPX9jv",
        "ykTv-bZNZg55",
        "XGZgADe4Zo5f",
        "Gkck4icaZJJH",
        "H4orUGDRaDwv",
        "4UeY5OK4DMCY",
        "VWiam19JIYXV",
        "OkhatMy3cWKJ"
      ],
      "authorship_tag": "ABX9TyOKY1eQTkuv9Z+MgD8uUdOF",
      "include_colab_link": true
    },
    "kernelspec": {
      "name": "python3",
      "display_name": "Python 3"
    },
    "language_info": {
      "name": "python"
    }
  },
  "cells": [
    {
      "cell_type": "markdown",
      "metadata": {
        "id": "view-in-github",
        "colab_type": "text"
      },
      "source": [
        "<a href=\"https://colab.research.google.com/github/guilmoreira/mercado_financeiro/blob/main/2_Indices_B3_setores.ipynb\" target=\"_parent\"><img src=\"https://colab.research.google.com/assets/colab-badge.svg\" alt=\"Open In Colab\"/></a>"
      ]
    },
    {
      "cell_type": "markdown",
      "source": [
        "##**1. INSTALANDO BIBLIOTECAS**\n",
        "\n",
        "\n",
        "\n",
        "---\n",
        "\n",
        "\n",
        "```\n",
        "# Esta etapa irá instalar as bibliotecas necessárias para funcionamento do código\n",
        "```\n",
        "\n"
      ],
      "metadata": {
        "id": "LzfwRwhPX9jv"
      }
    },
    {
      "cell_type": "code",
      "execution_count": 1,
      "metadata": {
        "id": "f4Er_8wIXsTB",
        "colab": {
          "base_uri": "https://localhost:8080/"
        },
        "outputId": "19e60327-8fa9-48a9-f368-a9439a3678a7"
      },
      "outputs": [
        {
          "output_type": "stream",
          "name": "stdout",
          "text": [
            "\u001b[?25l\r\u001b[K     |█████▊                          | 10 kB 22.5 MB/s eta 0:00:01\r\u001b[K     |███████████▍                    | 20 kB 14.0 MB/s eta 0:00:01\r\u001b[K     |█████████████████               | 30 kB 10.0 MB/s eta 0:00:01\r\u001b[K     |██████████████████████▊         | 40 kB 4.6 MB/s eta 0:00:01\r\u001b[K     |████████████████████████████▍   | 51 kB 5.5 MB/s eta 0:00:01\r\u001b[K     |████████████████████████████████| 57 kB 2.1 MB/s \n",
            "\u001b[?25h\u001b[?25l\r\u001b[K     |█████▌                          | 10 kB 27.0 MB/s eta 0:00:01\r\u001b[K     |███████████                     | 20 kB 34.0 MB/s eta 0:00:01\r\u001b[K     |████████████████▍               | 30 kB 38.3 MB/s eta 0:00:01\r\u001b[K     |█████████████████████▉          | 40 kB 42.2 MB/s eta 0:00:01\r\u001b[K     |███████████████████████████▎    | 51 kB 45.3 MB/s eta 0:00:01\r\u001b[K     |████████████████████████████████| 60 kB 6.4 MB/s \n",
            "\u001b[?25h"
          ]
        }
      ],
      "source": [
        "#!pip install -U plotly\n",
        "#!pip install pandas\n",
        "#!pip install numpy\n",
        "!pip install kora -q"
      ]
    },
    {
      "cell_type": "markdown",
      "source": [
        "##**2. IMPORTANDO BIBLIOTECAS**\n",
        "\n",
        "---\n",
        "\n",
        "\n",
        "```\n",
        "# Importando as bibliotecas\n",
        "```\n",
        "\n",
        "\n"
      ],
      "metadata": {
        "id": "ykTv-bZNZg55"
      }
    },
    {
      "cell_type": "code",
      "source": [
        "import pandas as pd\n",
        "import numpy as np\n",
        "import plotly.express as pl\n",
        "import time\n",
        "from time import sleep\n",
        "\n",
        "#Usando selenium no google colab\n",
        "from kora.selenium import wd\n",
        "from datetime import date\n",
        "\n",
        "#Validando certificado SSL. Não funciona sem esta biblioteca\n",
        "import ssl\n",
        "\n",
        "\n",
        "ssl._create_default_https_context = ssl._create_unverified_context"
      ],
      "metadata": {
        "id": "ernWvftJZfL7"
      },
      "execution_count": 2,
      "outputs": []
    },
    {
      "cell_type": "markdown",
      "source": [
        "##**3. VARIÁVEIS INICIAIS**\n",
        "\n",
        "---\n",
        "\n",
        "\n",
        "```\n",
        "# Variável de data utilizada devido ao nome do arquivo\n",
        "```\n",
        "\n",
        "\n"
      ],
      "metadata": {
        "id": "XGZgADe4Zo5f"
      }
    },
    {
      "cell_type": "code",
      "source": [
        "#Data de Hoje\n",
        "today=str(date.today())"
      ],
      "metadata": {
        "id": "ZGwJb5b4ZDOI"
      },
      "execution_count": 3,
      "outputs": []
    },
    {
      "cell_type": "markdown",
      "source": [
        "##**4. ÍNDICES DA B3**\n",
        "\n",
        "---\n",
        "\n",
        "\n",
        "```\n",
        "# LISTA COM PRINCIPAIS ÍNDICES DA B3\n",
        "```\n",
        "\n"
      ],
      "metadata": {
        "id": "Gkck4icaZJJH"
      }
    },
    {
      "cell_type": "code",
      "source": [
        "#LISTA DE ÍNDICES DA B3 -GITHUB\n",
        "#indices_b3=pd.read_excel('https://github.com/guilmoreira/PythonProjects/blob/main/01_Indices_setores/indices_b3.xlsx?raw=true')\n",
        "#indices_b3=pd.DataFrame(indices_b3)\n",
        "#lista_indices=indices_b3['ID'].to_list()\n",
        "lista_indices=['IBOV','SMLL']"
      ],
      "metadata": {
        "id": "14j-yGQ7ZUG2"
      },
      "execution_count": 4,
      "outputs": []
    },
    {
      "cell_type": "code",
      "source": [
        "indices_b3=lista_indices\n",
        "indices_b3"
      ],
      "metadata": {
        "id": "KNzGhQL2j-tk",
        "colab": {
          "base_uri": "https://localhost:8080/"
        },
        "outputId": "7bb15508-be33-4ba2-c7d5-dd353752a4b1"
      },
      "execution_count": 7,
      "outputs": [
        {
          "output_type": "execute_result",
          "data": {
            "text/plain": [
              "['IBOV', 'SMLL']"
            ]
          },
          "metadata": {},
          "execution_count": 7
        }
      ]
    },
    {
      "cell_type": "markdown",
      "source": [
        "##**5.FUNÇÃO EXTRAINDO TICKERS POR ÍNDICE**\n",
        "\n",
        "---\n",
        "\n",
        "\n",
        "\n",
        "```\n",
        "# FUNÇÃO QUE EXTRAÍ A CARTEIRA HIPOTÉTICA PARA O ÍNDICE NAQUELA DATA\n",
        "# NECSSÁRIO ATUALIZAR O \"find_element\"\n",
        "```\n",
        "\n",
        "\n"
      ],
      "metadata": {
        "id": "H4orUGDRaDwv"
      }
    },
    {
      "cell_type": "markdown",
      "source": [
        "5.1 **Referências utilizadas (03/28/2022)**\n",
        "\n",
        "https://www.b3.com.br/pt_br/market-data-e-indices/indices/indices-amplos/indice-ibovespa-ibovespa-composicao-da-carteira.htm\n",
        "\n",
        "https://sistemaswebb3-listados.b3.com.br/indexPage/day/IBOV?language=pt-br\n"
      ],
      "metadata": {
        "id": "H09lw_SHbWxb"
      }
    },
    {
      "cell_type": "code",
      "source": [
        "#Função baixa os arquivos do site\n",
        "\n",
        "def composicao_indice(indice, delay=10):\n",
        "#funçao utiliza o selenium para realizar essa tarefa\n",
        "  \n",
        "  link=f'https://sistemaswebb3-listados.b3.com.br/indexPage/day/{indice.upper()}?language=pt-br'\n",
        "  \n",
        "  wd.get(link)\n",
        "\n",
        "#ATUALIZAR O find_element_by_id para find_element(by=By.ID)?? Pesquisar!\n",
        "  sleep(5)\n",
        "  wd.find_element_by_id('segment').send_keys('Setor de Atuação')\n",
        "  sleep(delay)\n",
        "  wd.find_element_by_link_text('Download').click()\n",
        "  sleep(5)\n",
        "  arquivo=f'/content/{indice.upper()}Dia_{today[8:]}-{today[5:7]}-{today[2:4]}.csv'\n",
        "  return pd.read_csv(arquivo, sep=';',encoding='ISO-8859-1',skipfooter=2,engine='python',thousands='.',decimal=',',header=1,index_col=False)"
      ],
      "metadata": {
        "id": "9OBo1FK7caB-"
      },
      "execution_count": 8,
      "outputs": []
    },
    {
      "cell_type": "code",
      "source": [
        "#Função sem download dos arquivos precisa ajuste\n",
        "\n",
        "def composicao_indice_no_file(indice, delay=10):\n",
        "  url = f'https://sistemaswebb3-listados.b3.com.br/indexPage/day/{indice.upper()}?language=pt-br'\n",
        "  return pd.read_html(url, decimal=',',thousands='.',index_col='Código')"
      ],
      "metadata": {
        "id": "EKfmkbyYepRS"
      },
      "execution_count": null,
      "outputs": []
    },
    {
      "cell_type": "markdown",
      "source": [
        "##7. **LOOP PARA EXTRAÇÃO + ARQUIVOS**\n",
        "\n",
        "---\n",
        "\n",
        "\n",
        "\n",
        "```\n",
        "# LOOP PARA DOWNLOAD DOS ARQUIVOS PARA CADA UM DOS ÍNDICES.\n",
        "# GERADA UMA DATABASE (geral) com as carteiras\n",
        "```\n",
        "\n"
      ],
      "metadata": {
        "id": "4UeY5OK4DMCY"
      }
    },
    {
      "cell_type": "code",
      "source": [
        "#EXTRAÇÃO SOMENTE UM ÍNDICE\n",
        "indice_unico='IBOV'\n",
        "ibov=composicao_indice(str(indice_unico))"
      ],
      "metadata": {
        "id": "9vC-rpJzNOCT"
      },
      "execution_count": null,
      "outputs": []
    },
    {
      "cell_type": "code",
      "source": [
        "#EXTRAINTO TODOS OS ÍNDICES\n",
        "\n",
        "tempo_total = time.time()\n",
        "\n",
        "geral=[]\n",
        "\n",
        "for i in lista_indices:\n",
        "  tempo_ini = time.time()\n",
        "  dados=composicao_indice(str(i))\n",
        "  tempo_final  = time.time()\n",
        "  tempo_ind=tempo_final-tempo_ini\n",
        "  geral.append(dados)\n",
        "  print(f'O índice {i} foi baixado com sucesso num tempo de {str(tempo_ind)} s. Dimensões: {dados.shape}')\n",
        "\n",
        "tempo_loop=(time.time())-tempo_total"
      ],
      "metadata": {
        "id": "fKoBihRhb4-q",
        "colab": {
          "base_uri": "https://localhost:8080/"
        },
        "outputId": "ce9a5dd9-618a-4bc3-dfb4-bd6f0f969fe3"
      },
      "execution_count": 9,
      "outputs": [
        {
          "output_type": "stream",
          "name": "stderr",
          "text": [
            "/usr/local/lib/python3.7/dist-packages/ipykernel_launcher.py:12: DeprecationWarning: find_element_by_* commands are deprecated. Please use find_element() instead\n",
            "  if sys.path[0] == '':\n",
            "/usr/local/lib/python3.7/dist-packages/ipykernel_launcher.py:14: DeprecationWarning: find_element_by_link_text is deprecated. Please use find_element(by=By.LINK_TEXT, value=link_text) instead\n",
            "  \n"
          ]
        },
        {
          "output_type": "stream",
          "name": "stdout",
          "text": [
            "O índice IBOV foi baixado com sucesso num tempo de 22.712398052215576 s. Dimensões: (91, 7)\n",
            "O índice SMLL foi baixado com sucesso num tempo de 20.596530437469482 s. Dimensões: (136, 7)\n"
          ]
        }
      ]
    },
    {
      "cell_type": "markdown",
      "source": [
        "##8. **TRATANDO OS DADOS**\n",
        "\n",
        "---\n",
        "\n",
        "\n",
        "```\n",
        "# NECESSÁRIO AJUSTE NOS DADOS INDIVIDUALIZADOS\n",
        "# DEIXEI UM PADRÃO PARA O IBOV\n",
        "```\n",
        "\n"
      ],
      "metadata": {
        "id": "VWiam19JIYXV"
      }
    },
    {
      "cell_type": "code",
      "source": [
        "dados"
      ],
      "metadata": {
        "colab": {
          "base_uri": "https://localhost:8080/",
          "height": 424
        },
        "id": "u5-puaI091RO",
        "outputId": "d2764a29-5f83-4b0e-fff1-8409582efb8e"
      },
      "execution_count": 26,
      "outputs": [
        {
          "output_type": "execute_result",
          "data": {
            "text/plain": [
              "                 Setor  Código          Ação        Tipo  Qtde. Teórica  \\\n",
              "0        Bens Industri   AERI3         AERIS  ON      NM      218058827   \n",
              "1        Bens Industri   ARML3         ARMAC  ON      NM      170115256   \n",
              "2        Bens Industri   ROMI3     INDS ROMI  ON      NM       37272660   \n",
              "3        Bens Industri   KEPL3  KEPLER WEBER          ON       30324161   \n",
              "4        Bens Industri   MILS3         MILLS  ON      NM      113954358   \n",
              "..                 ...     ...           ...         ...            ...   \n",
              "131  Utilidade Pública   AURE3         AUREN  ON      NM      281056116   \n",
              "132  Utilidade Pública   ENBR3   ENERGIAS BR  ON  ED  NM      230931405   \n",
              "133  Utilidade Pública   LIGT3     LIGHT S/A  ON      NM      372555324   \n",
              "134  Utilidade Pública   MEGA3  OMEGAENERGIA  ON      NM      285136278   \n",
              "135  Utilidade Pública  TAEE11         TAESA  UNT     N2      218568234   \n",
              "\n",
              "     Part. (%)  Part. (%)Acum.         SubSetor  \n",
              "0        0.380           2.755   Bens Industria  \n",
              "1        0.948           2.755   Bens Industria  \n",
              "2        0.159           2.755   Bens Industria  \n",
              "3        0.484           2.755   Bens Industria  \n",
              "4        0.286           2.755   Bens Industria  \n",
              "..         ...             ...              ...  \n",
              "131      1.403          10.457  Utilidade Públi  \n",
              "132      1.652          10.457  Utilidade Públi  \n",
              "133      1.159          10.457  Utilidade Públi  \n",
              "134      1.067          10.457  Utilidade Públi  \n",
              "135      3.086          10.457  Utilidade Públi  \n",
              "\n",
              "[136 rows x 8 columns]"
            ],
            "text/html": [
              "\n",
              "  <div id=\"df-148893d5-e77d-4b8f-8cc0-cba9f970de9b\">\n",
              "    <div class=\"colab-df-container\">\n",
              "      <div>\n",
              "<style scoped>\n",
              "    .dataframe tbody tr th:only-of-type {\n",
              "        vertical-align: middle;\n",
              "    }\n",
              "\n",
              "    .dataframe tbody tr th {\n",
              "        vertical-align: top;\n",
              "    }\n",
              "\n",
              "    .dataframe thead th {\n",
              "        text-align: right;\n",
              "    }\n",
              "</style>\n",
              "<table border=\"1\" class=\"dataframe\">\n",
              "  <thead>\n",
              "    <tr style=\"text-align: right;\">\n",
              "      <th></th>\n",
              "      <th>Setor</th>\n",
              "      <th>Código</th>\n",
              "      <th>Ação</th>\n",
              "      <th>Tipo</th>\n",
              "      <th>Qtde. Teórica</th>\n",
              "      <th>Part. (%)</th>\n",
              "      <th>Part. (%)Acum.</th>\n",
              "      <th>SubSetor</th>\n",
              "    </tr>\n",
              "  </thead>\n",
              "  <tbody>\n",
              "    <tr>\n",
              "      <th>0</th>\n",
              "      <td>Bens Industri</td>\n",
              "      <td>AERI3</td>\n",
              "      <td>AERIS</td>\n",
              "      <td>ON      NM</td>\n",
              "      <td>218058827</td>\n",
              "      <td>0.380</td>\n",
              "      <td>2.755</td>\n",
              "      <td>Bens Industria</td>\n",
              "    </tr>\n",
              "    <tr>\n",
              "      <th>1</th>\n",
              "      <td>Bens Industri</td>\n",
              "      <td>ARML3</td>\n",
              "      <td>ARMAC</td>\n",
              "      <td>ON      NM</td>\n",
              "      <td>170115256</td>\n",
              "      <td>0.948</td>\n",
              "      <td>2.755</td>\n",
              "      <td>Bens Industria</td>\n",
              "    </tr>\n",
              "    <tr>\n",
              "      <th>2</th>\n",
              "      <td>Bens Industri</td>\n",
              "      <td>ROMI3</td>\n",
              "      <td>INDS ROMI</td>\n",
              "      <td>ON      NM</td>\n",
              "      <td>37272660</td>\n",
              "      <td>0.159</td>\n",
              "      <td>2.755</td>\n",
              "      <td>Bens Industria</td>\n",
              "    </tr>\n",
              "    <tr>\n",
              "      <th>3</th>\n",
              "      <td>Bens Industri</td>\n",
              "      <td>KEPL3</td>\n",
              "      <td>KEPLER WEBER</td>\n",
              "      <td>ON</td>\n",
              "      <td>30324161</td>\n",
              "      <td>0.484</td>\n",
              "      <td>2.755</td>\n",
              "      <td>Bens Industria</td>\n",
              "    </tr>\n",
              "    <tr>\n",
              "      <th>4</th>\n",
              "      <td>Bens Industri</td>\n",
              "      <td>MILS3</td>\n",
              "      <td>MILLS</td>\n",
              "      <td>ON      NM</td>\n",
              "      <td>113954358</td>\n",
              "      <td>0.286</td>\n",
              "      <td>2.755</td>\n",
              "      <td>Bens Industria</td>\n",
              "    </tr>\n",
              "    <tr>\n",
              "      <th>...</th>\n",
              "      <td>...</td>\n",
              "      <td>...</td>\n",
              "      <td>...</td>\n",
              "      <td>...</td>\n",
              "      <td>...</td>\n",
              "      <td>...</td>\n",
              "      <td>...</td>\n",
              "      <td>...</td>\n",
              "    </tr>\n",
              "    <tr>\n",
              "      <th>131</th>\n",
              "      <td>Utilidade Pública</td>\n",
              "      <td>AURE3</td>\n",
              "      <td>AUREN</td>\n",
              "      <td>ON      NM</td>\n",
              "      <td>281056116</td>\n",
              "      <td>1.403</td>\n",
              "      <td>10.457</td>\n",
              "      <td>Utilidade Públi</td>\n",
              "    </tr>\n",
              "    <tr>\n",
              "      <th>132</th>\n",
              "      <td>Utilidade Pública</td>\n",
              "      <td>ENBR3</td>\n",
              "      <td>ENERGIAS BR</td>\n",
              "      <td>ON  ED  NM</td>\n",
              "      <td>230931405</td>\n",
              "      <td>1.652</td>\n",
              "      <td>10.457</td>\n",
              "      <td>Utilidade Públi</td>\n",
              "    </tr>\n",
              "    <tr>\n",
              "      <th>133</th>\n",
              "      <td>Utilidade Pública</td>\n",
              "      <td>LIGT3</td>\n",
              "      <td>LIGHT S/A</td>\n",
              "      <td>ON      NM</td>\n",
              "      <td>372555324</td>\n",
              "      <td>1.159</td>\n",
              "      <td>10.457</td>\n",
              "      <td>Utilidade Públi</td>\n",
              "    </tr>\n",
              "    <tr>\n",
              "      <th>134</th>\n",
              "      <td>Utilidade Pública</td>\n",
              "      <td>MEGA3</td>\n",
              "      <td>OMEGAENERGIA</td>\n",
              "      <td>ON      NM</td>\n",
              "      <td>285136278</td>\n",
              "      <td>1.067</td>\n",
              "      <td>10.457</td>\n",
              "      <td>Utilidade Públi</td>\n",
              "    </tr>\n",
              "    <tr>\n",
              "      <th>135</th>\n",
              "      <td>Utilidade Pública</td>\n",
              "      <td>TAEE11</td>\n",
              "      <td>TAESA</td>\n",
              "      <td>UNT     N2</td>\n",
              "      <td>218568234</td>\n",
              "      <td>3.086</td>\n",
              "      <td>10.457</td>\n",
              "      <td>Utilidade Públi</td>\n",
              "    </tr>\n",
              "  </tbody>\n",
              "</table>\n",
              "<p>136 rows × 8 columns</p>\n",
              "</div>\n",
              "      <button class=\"colab-df-convert\" onclick=\"convertToInteractive('df-148893d5-e77d-4b8f-8cc0-cba9f970de9b')\"\n",
              "              title=\"Convert this dataframe to an interactive table.\"\n",
              "              style=\"display:none;\">\n",
              "        \n",
              "  <svg xmlns=\"http://www.w3.org/2000/svg\" height=\"24px\"viewBox=\"0 0 24 24\"\n",
              "       width=\"24px\">\n",
              "    <path d=\"M0 0h24v24H0V0z\" fill=\"none\"/>\n",
              "    <path d=\"M18.56 5.44l.94 2.06.94-2.06 2.06-.94-2.06-.94-.94-2.06-.94 2.06-2.06.94zm-11 1L8.5 8.5l.94-2.06 2.06-.94-2.06-.94L8.5 2.5l-.94 2.06-2.06.94zm10 10l.94 2.06.94-2.06 2.06-.94-2.06-.94-.94-2.06-.94 2.06-2.06.94z\"/><path d=\"M17.41 7.96l-1.37-1.37c-.4-.4-.92-.59-1.43-.59-.52 0-1.04.2-1.43.59L10.3 9.45l-7.72 7.72c-.78.78-.78 2.05 0 2.83L4 21.41c.39.39.9.59 1.41.59.51 0 1.02-.2 1.41-.59l7.78-7.78 2.81-2.81c.8-.78.8-2.07 0-2.86zM5.41 20L4 18.59l7.72-7.72 1.47 1.35L5.41 20z\"/>\n",
              "  </svg>\n",
              "      </button>\n",
              "      \n",
              "  <style>\n",
              "    .colab-df-container {\n",
              "      display:flex;\n",
              "      flex-wrap:wrap;\n",
              "      gap: 12px;\n",
              "    }\n",
              "\n",
              "    .colab-df-convert {\n",
              "      background-color: #E8F0FE;\n",
              "      border: none;\n",
              "      border-radius: 50%;\n",
              "      cursor: pointer;\n",
              "      display: none;\n",
              "      fill: #1967D2;\n",
              "      height: 32px;\n",
              "      padding: 0 0 0 0;\n",
              "      width: 32px;\n",
              "    }\n",
              "\n",
              "    .colab-df-convert:hover {\n",
              "      background-color: #E2EBFA;\n",
              "      box-shadow: 0px 1px 2px rgba(60, 64, 67, 0.3), 0px 1px 3px 1px rgba(60, 64, 67, 0.15);\n",
              "      fill: #174EA6;\n",
              "    }\n",
              "\n",
              "    [theme=dark] .colab-df-convert {\n",
              "      background-color: #3B4455;\n",
              "      fill: #D2E3FC;\n",
              "    }\n",
              "\n",
              "    [theme=dark] .colab-df-convert:hover {\n",
              "      background-color: #434B5C;\n",
              "      box-shadow: 0px 1px 3px 1px rgba(0, 0, 0, 0.15);\n",
              "      filter: drop-shadow(0px 1px 2px rgba(0, 0, 0, 0.3));\n",
              "      fill: #FFFFFF;\n",
              "    }\n",
              "  </style>\n",
              "\n",
              "      <script>\n",
              "        const buttonEl =\n",
              "          document.querySelector('#df-148893d5-e77d-4b8f-8cc0-cba9f970de9b button.colab-df-convert');\n",
              "        buttonEl.style.display =\n",
              "          google.colab.kernel.accessAllowed ? 'block' : 'none';\n",
              "\n",
              "        async function convertToInteractive(key) {\n",
              "          const element = document.querySelector('#df-148893d5-e77d-4b8f-8cc0-cba9f970de9b');\n",
              "          const dataTable =\n",
              "            await google.colab.kernel.invokeFunction('convertToInteractive',\n",
              "                                                     [key], {});\n",
              "          if (!dataTable) return;\n",
              "\n",
              "          const docLinkHtml = 'Like what you see? Visit the ' +\n",
              "            '<a target=\"_blank\" href=https://colab.research.google.com/notebooks/data_table.ipynb>data table notebook</a>'\n",
              "            + ' to learn more about interactive tables.';\n",
              "          element.innerHTML = '';\n",
              "          dataTable['output_type'] = 'display_data';\n",
              "          await google.colab.output.renderOutput(dataTable, element);\n",
              "          const docLink = document.createElement('div');\n",
              "          docLink.innerHTML = docLinkHtml;\n",
              "          element.appendChild(docLink);\n",
              "        }\n",
              "      </script>\n",
              "    </div>\n",
              "  </div>\n",
              "  "
            ]
          },
          "metadata": {},
          "execution_count": 26
        }
      ]
    },
    {
      "cell_type": "code",
      "source": [
        "#VERIRICANDO DISCREPÂCIAS\n",
        "def renomear_setor(setor):\n",
        "  if setor == 'Cons N  Básico' or setor=='Cons N Cíclico': return 'Consumo Não-Cíclico'\n",
        "  if setor == 'Financeiro e Outros' or setor=='Financ e Outros': return 'Financeiro'\n",
        "  if setor == 'Telecomunica' : return 'Telecomunicação'\n",
        "  if setor == 'Utilidade Públ' : return 'Utilidade Pública'\n",
        "  if setor == 'Bens Indls' : return 'Bens Industriais'\n",
        "  if setor == 'Mats Básicos' : return 'Materiais Básicos'\n",
        "  if setor == 'Petróleo' : return 'Petróleo'  \n",
        "  if setor == 'Saúde' : return 'Saúde'  \n",
        "  if setor == 'Tec.Informação' : return 'Tecnologia da Informação'  \n",
        "  if setor == 'Telecomunicaçã' : return 'Comunicação'\n",
        "  if setor == 'Diverso' : return 'Diversos'  \n",
        "  if setor == 'Consumo Cíclico' : return 'Consumo Cíclico'\n",
        "  if setor == 'Comput e Equips' : return 'Comput e Equips'\n",
        "  else: return setor\n",
        "\n",
        "def renomear_subsetor(subsetor):\n",
        "  if subsetor == 'Máqs e Equips' : return 'Máquinas e Equipamentos'\n",
        "  if subsetor == 'Mat Transporte' : return 'Material de Transporte'\n",
        "  if subsetor == 'Comput e Equips' : return 'Computadores e Equipamentos'\n",
        "  if subsetor == 'Comércio Distr.' : return 'Comércio e Distribuição'\n",
        "  if subsetor == 'Pr Pessoal Limp' : return 'Produtos Limpeza'\n",
        "  if subsetor == 'Tecid Vest Calç' : return 'Tecido, Vestuário e Calçados'\n",
        "  if subsetor == 'Constr Civil' : return 'Construção Civil'\n",
        "  if subsetor == 'Explor Imóveis' : return 'Exploração de Imóveis'\n",
        "  if subsetor == 'Interms Financs' : return 'Intermediários Financeiro'\n",
        "  if subsetor == 'Previd  Seguros' : return 'Previdência e Seguros'\n",
        "  if subsetor == 'Sid Metalurgia' : return 'Siderurgia e Metalurgia'\n",
        "  if subsetor == 'SM Hosp An.Diag' : return 'Serviços Médicos - Hospitalares, Análises e Diagnósticos'\n",
        "  if subsetor == 'Programas Servs' : return 'Programas e Serviços'  \n",
        "  if subsetor == 'Energ Elétrica' : return 'Energia Elétrica'\n",
        "  if subsetor == 'Gás e Biocombustíveis' : return 'Petróleo, Gás e Biocombustíveis'\n",
        "  if subsetor == 'Alimentos Processados' : return 'Alimentos Processados'\n",
        "  if subsetor == 'Transportes' : return 'Transporte'\n",
        "  if subsetor == 'Viagens e Lazer' : return 'Viagens e Lazer'\n",
        "  if subsetor == 'Madeira e Papel' : return 'Madeira e Papel'\n",
        "  if subsetor == 'Serviços Financeiros Diversos' : return 'Serviços Financeiros Diversos'\n",
        "  if subsetor == 'Mineração' : return 'Mineração'\n",
        "  if subsetor == 'Água Saneamento' : return 'Água Saneamento'  \n",
        "  if subsetor == 'Telecomunicação' : return 'Telecomunicação'  \n",
        "  if subsetor == 'Comércio' : return 'Comércio'\n",
        "  if subsetor == 'Químicos' : return 'Químicos'\n",
        "  if subsetor == 'Bebidas' : return 'Bebidas'\n",
        "  if subsetor == 'Transporte' : return 'Transporte'     \n",
        "  if subsetor == 'Diversos' : return 'Diversos'\n",
        "  else: return subsetor"
      ],
      "metadata": {
        "id": "fJIcXYVBJBbp"
      },
      "execution_count": 10,
      "outputs": []
    },
    {
      "cell_type": "code",
      "source": [
        "#LOOP PARA TRATAR OS DADOS\n",
        "carteira=[]\n",
        "tempo_ini = time.time()\n",
        "\n",
        "for i in geral:\n",
        "  tempo_ini = time.time()\n",
        "  tratamento=i\n",
        "  #Criando uma coluna de subsetor partindo da barra\n",
        "  tratamento['SubSetor']=tratamento['Setor'].apply(lambda s: s[s.rfind('/')+1:].strip())\n",
        "  #Subscrevendo a coluna de Setor com dados antes da barra\n",
        "  tratamento['Setor']=tratamento['Setor'].apply(lambda s: s[:s.rfind('/')].strip())\n",
        "  #Aplicando função\n",
        "  tratamento['Setor']=tratamento['Setor'].apply(renomear_setor)\n",
        "  tratamento['SubSetor']=tratamento['SubSetor'].apply(renomear_subsetor)\n",
        "  carteira.append(tratamento)\n",
        "  print(f'numero {i}')\n",
        "\n",
        "tempo_trat=tempo_ini-(time.time())\n",
        "\n",
        "print(f' O tempo do loop foi de {str(tempo_trat)} s')"
      ],
      "metadata": {
        "id": "7BIGTqlyL1ZN"
      },
      "execution_count": null,
      "outputs": []
    },
    {
      "cell_type": "code",
      "source": [
        "carteira[0]"
      ],
      "metadata": {
        "id": "KSjfqnFO-cKm"
      },
      "execution_count": null,
      "outputs": []
    },
    {
      "cell_type": "markdown",
      "source": [
        "##9. **GRÁFICOS**\n",
        "\n",
        "---\n",
        "\n",
        "\n",
        "\n",
        "```\n",
        "# COMO DADOS NÃO ESTÃO AJUSTADOS PARA TODOS OS ÍNDICES\n",
        "# ALGUNS ÍNDICES PODEM NÃO FUNCIONAR\n",
        "```\n",
        "\n"
      ],
      "metadata": {
        "id": "OkhatMy3cWKJ"
      }
    },
    {
      "cell_type": "code",
      "source": [
        "#lista dos indices\n",
        "a=0\n",
        "print('Indice numérico utilizado na figura')\n",
        "for i in lista_indices:\n",
        "  print(f'{i.upper()}={a}')\n",
        "  a=a+1"
      ],
      "metadata": {
        "id": "QOyiPTPyjPms",
        "colab": {
          "base_uri": "https://localhost:8080/"
        },
        "outputId": "49ce9f08-e91f-4469-f628-36f681531e1f"
      },
      "execution_count": 28,
      "outputs": [
        {
          "output_type": "stream",
          "name": "stdout",
          "text": [
            "Indice numérico utilizado na figura\n",
            "IBOV=0\n",
            "SMLL=1\n"
          ]
        }
      ]
    },
    {
      "cell_type": "code",
      "source": [
        "#UTILIZAR O ÍNDICE DESEJADO\n",
        "base=carteira[0]"
      ],
      "metadata": {
        "id": "pKC2BL_XJopT"
      },
      "execution_count": 32,
      "outputs": []
    },
    {
      "cell_type": "code",
      "source": [
        "#GRÁFICO DE PIZZA ITERATIVO TENDO QUE AJUSTAR CONFORME DADOS\n",
        "\n",
        "fig1=pl.sunburst(data_frame=base,path=['Setor','SubSetor','Código'], values='Part. (%)', height=1000)\n",
        "fig1.update_traces(textfont_color='white',\n",
        "                  textfont_size=14,\n",
        "                  hovertemplate='<b>%{label}:</b> %{value:.2f}%')"
      ],
      "metadata": {
        "id": "0EiV8_lfIBuV",
        "colab": {
          "base_uri": "https://localhost:8080/",
          "height": 1000
        },
        "outputId": "253f52ba-2303-442c-af9d-0ee53031bb89"
      },
      "execution_count": 33,
      "outputs": [
        {
          "output_type": "display_data",
          "data": {
            "text/html": [
              "<html>\n",
              "<head><meta charset=\"utf-8\" /></head>\n",
              "<body>\n",
              "    <div>            <script src=\"https://cdnjs.cloudflare.com/ajax/libs/mathjax/2.7.5/MathJax.js?config=TeX-AMS-MML_SVG\"></script><script type=\"text/javascript\">if (window.MathJax) {MathJax.Hub.Config({SVG: {font: \"STIX-Web\"}});}</script>                <script type=\"text/javascript\">window.PlotlyConfig = {MathJaxConfig: 'local'};</script>\n",
              "        <script src=\"https://cdn.plot.ly/plotly-2.8.3.min.js\"></script>                <div id=\"4a84f74f-3b58-4112-ba0e-9f1ef757e6ee\" class=\"plotly-graph-div\" style=\"height:1000px; width:100%;\"></div>            <script type=\"text/javascript\">                                    window.PLOTLYENV=window.PLOTLYENV || {};                                    if (document.getElementById(\"4a84f74f-3b58-4112-ba0e-9f1ef757e6ee\")) {                    Plotly.newPlot(                        \"4a84f74f-3b58-4112-ba0e-9f1ef757e6ee\",                        [{\"branchvalues\":\"total\",\"domain\":{\"x\":[0.0,1.0],\"y\":[0.0,1.0]},\"hovertemplate\":\"<b>%{label}:</b> %{value:.2f}%\",\"ids\":[\"Consumo N\\u00e3o-C\\u00edcl/Consumo N\\u00e3o-C\\u00edcli/ABEV3\",\"Consumo C\\u00edcl/Consumo C\\u00edcli/ALPA4\",\"Consumo C\\u00edcl/Consumo C\\u00edcli/AMER3\",\"Consumo N\\u00e3o-C\\u00edcl/Consumo N\\u00e3o-C\\u00edcli/ASAI3\",\"Bens Industri/Bens Industria/AZUL4\",\"Finance/Financei/B3SA3\",\"Finance/Financei/BBAS3\",\"Finance/Financei/BBDC3\",\"Finance/Financei/BBDC4\",\"Finance/Financei/BBSE3\",\"Consumo N\\u00e3o-C\\u00edcl/Consumo N\\u00e3o-C\\u00edcli/BEEF3\",\"Finance/Financei/BIDI11\",\"Finance/Financei/BPAC11\",\"Finance/Financei/BPAN4\",\"Materiais B\\u00e1si/Materiais B\\u00e1sic/BRAP4\",\"Consumo N\\u00e3o-C\\u00edcl/Consumo N\\u00e3o-C\\u00edcli/BRFS3\",\"Materiais B\\u00e1si/Materiais B\\u00e1sic/BRKM5\",\"Finance/Financei/BRML3\",\"Tecnologia da Informa/Tecnologia da Informa\\u00e7/CASH3\",\"Bens Industri/Bens Industria/CCRO3\",\"Finance/Financei/CIEL3\",\"Utilidade P\\u00fablica/Utilidade P\\u00fabli/CMIG4\",\"Materiais B\\u00e1si/Materiais B\\u00e1sic/CMIN3\",\"Diversos/Diversos/COGN3\",\"Utilidade P\\u00fablica/Utilidade P\\u00fabli/CPFE3\",\"Utilidade P\\u00fablica/Utilidade P\\u00fabli/CPLE6\",\"Consumo N\\u00e3o-C\\u00edcl/Consumo N\\u00e3o-C\\u00edcli/CRFB3\",\"Petr\\u00f3/Petr\\u00f3l/CSAN3\",\"Materiais B\\u00e1si/Materiais B\\u00e1sic/CSNA3\",\"Consumo C\\u00edcl/Consumo C\\u00edcli/CVCB3\",\"Consumo C\\u00edcl/Consumo C\\u00edcli/CYRE3\",\"Materiais B\\u00e1si/Materiais B\\u00e1sic/DXCO3\",\"Bens Industri/Bens Industria/ECOR3\",\"Utilidade P\\u00fablica/Utilidade P\\u00fabli/EGIE3\",\"Utilidade P\\u00fablica/Utilidade P\\u00fabli/ELET3\",\"Utilidade P\\u00fablica/Utilidade P\\u00fabli/ELET6\",\"Bens Industri/Bens Industria/EMBR3\",\"Utilidade P\\u00fablica/Utilidade P\\u00fabli/ENBR3\",\"Utilidade P\\u00fablica/Utilidade P\\u00fabli/ENEV3\",\"Utilidade P\\u00fablica/Utilidade P\\u00fabli/ENGI11\",\"Utilidade P\\u00fablica/Utilidade P\\u00fabli/EQTL3\",\"Consumo C\\u00edcl/Consumo C\\u00edcli/EZTC3\",\"Sa/Sa\\u00fa/FLRY3\",\"Materiais B\\u00e1si/Materiais B\\u00e1sic/GGBR4\",\"Materiais B\\u00e1si/Materiais B\\u00e1sic/GOAU4\",\"Bens Industri/Bens Industria/GOLL4\",\"Sa/Sa\\u00fa/HAPV3\",\"Sa/Sa\\u00fa/HYPE3\",\"Finance/Financei/IGTI11\",\"Finance/Financei/IRBR3\",\"Finance/Financei/ITSA4\",\"Finance/Financei/ITUB4\",\"Consumo N\\u00e3o-C\\u00edcl/Consumo N\\u00e3o-C\\u00edcli/JBSS3\",\"Consumo C\\u00edcl/Consumo C\\u00edcli/JHSF3\",\"Materiais B\\u00e1si/Materiais B\\u00e1sic/KLBN11\",\"Diversos/Diversos/LCAM3\",\"Consumo C\\u00edcl/Consumo C\\u00edcli/LREN3\",\"Tecnologia da Informa/Tecnologia da Informa\\u00e7/LWSA3\",\"Consumo C\\u00edcl/Consumo C\\u00edcli/MGLU3\",\"Consumo N\\u00e3o-C\\u00edcl/Consumo N\\u00e3o-C\\u00edcli/MRFG3\",\"Consumo C\\u00edcl/Consumo C\\u00edcli/MRVE3\",\"Finance/Financei/MULT3\",\"Consumo N\\u00e3o-C\\u00edcl/Consumo N\\u00e3o-C\\u00edcli/NTCO3\",\"Consumo N\\u00e3o-C\\u00edcl/Consumo N\\u00e3o-C\\u00edcli/PCAR3\",\"Petr\\u00f3/Petr\\u00f3l/PETR3\",\"Petr\\u00f3/Petr\\u00f3l/PETR4\",\"Consumo C\\u00edcl/Consumo C\\u00edcli/PETZ3\",\"Comput e Eq/Comput e Equ/POSI3\",\"Petr\\u00f3/Petr\\u00f3l/PRIO3\",\"Sa/Sa\\u00fa/QUAL3\",\"Sa/Sa\\u00fa/RADL3\",\"Bens Industri/Bens Industria/RAIL3\",\"Sa/Sa\\u00fa/RDOR3\",\"Diversos/Diversos/RENT3\",\"Petr\\u00f3/Petr\\u00f3l/RRRP3\",\"Finance/Financei/SANB11\",\"Utilidade P\\u00fablica/Utilidade P\\u00fabli/SBSP3\",\"Consumo C\\u00edcl/Consumo C\\u00edcli/SOMA3\",\"Finance/Financei/SULA11\",\"Materiais B\\u00e1si/Materiais B\\u00e1sic/SUZB3\",\"Utilidade P\\u00fablica/Utilidade P\\u00fabli/TAEE11\",\"Comunica/Comunica\\u00e7/TIMS3\",\"Tecnologia da Informa/Tecnologia da Informa\\u00e7/TOTS3\",\"Petr\\u00f3/Petr\\u00f3l/UGPA3\",\"Materiais B\\u00e1si/Materiais B\\u00e1sic/USIM5\",\"Materiais B\\u00e1si/Materiais B\\u00e1sic/VALE3\",\"Petr\\u00f3/Petr\\u00f3l/VBBR3\",\"Consumo C\\u00edcl/Consumo C\\u00edcli/VIIA3\",\"Comunica/Comunica\\u00e7/VIVT3\",\"Bens Industri/Bens Industria/WEGE3\",\"Diversos/Diversos/YDUQ3\",\"Bens Industri/Bens Industria\",\"Comput e Eq/Comput e Equ\",\"Comunica/Comunica\\u00e7\",\"Consumo C\\u00edcl/Consumo C\\u00edcli\",\"Consumo N\\u00e3o-C\\u00edcl/Consumo N\\u00e3o-C\\u00edcli\",\"Diversos/Diversos\",\"Finance/Financei\",\"Materiais B\\u00e1si/Materiais B\\u00e1sic\",\"Petr\\u00f3/Petr\\u00f3l\",\"Sa/Sa\\u00fa\",\"Tecnologia da Informa/Tecnologia da Informa\\u00e7\",\"Utilidade P\\u00fablica/Utilidade P\\u00fabli\",\"Bens Industri\",\"Comput e Eq\",\"Comunica\",\"Consumo C\\u00edcl\",\"Consumo N\\u00e3o-C\\u00edcl\",\"Diversos\",\"Finance\",\"Materiais B\\u00e1si\",\"Petr\\u00f3\",\"Sa\",\"Tecnologia da Informa\",\"Utilidade P\\u00fablica\"],\"labels\":[\"ABEV3\",\"ALPA4\",\"AMER3\",\"ASAI3\",\"AZUL4\",\"B3SA3\",\"BBAS3\",\"BBDC3\",\"BBDC4\",\"BBSE3\",\"BEEF3\",\"BIDI11\",\"BPAC11\",\"BPAN4\",\"BRAP4\",\"BRFS3\",\"BRKM5\",\"BRML3\",\"CASH3\",\"CCRO3\",\"CIEL3\",\"CMIG4\",\"CMIN3\",\"COGN3\",\"CPFE3\",\"CPLE6\",\"CRFB3\",\"CSAN3\",\"CSNA3\",\"CVCB3\",\"CYRE3\",\"DXCO3\",\"ECOR3\",\"EGIE3\",\"ELET3\",\"ELET6\",\"EMBR3\",\"ENBR3\",\"ENEV3\",\"ENGI11\",\"EQTL3\",\"EZTC3\",\"FLRY3\",\"GGBR4\",\"GOAU4\",\"GOLL4\",\"HAPV3\",\"HYPE3\",\"IGTI11\",\"IRBR3\",\"ITSA4\",\"ITUB4\",\"JBSS3\",\"JHSF3\",\"KLBN11\",\"LCAM3\",\"LREN3\",\"LWSA3\",\"MGLU3\",\"MRFG3\",\"MRVE3\",\"MULT3\",\"NTCO3\",\"PCAR3\",\"PETR3\",\"PETR4\",\"PETZ3\",\"POSI3\",\"PRIO3\",\"QUAL3\",\"RADL3\",\"RAIL3\",\"RDOR3\",\"RENT3\",\"RRRP3\",\"SANB11\",\"SBSP3\",\"SOMA3\",\"SULA11\",\"SUZB3\",\"TAEE11\",\"TIMS3\",\"TOTS3\",\"UGPA3\",\"USIM5\",\"VALE3\",\"VBBR3\",\"VIIA3\",\"VIVT3\",\"WEGE3\",\"YDUQ3\",\"Bens Industria\",\"Comput e Equ\",\"Comunica\\u00e7\",\"Consumo C\\u00edcli\",\"Consumo N\\u00e3o-C\\u00edcli\",\"Diversos\",\"Financei\",\"Materiais B\\u00e1sic\",\"Petr\\u00f3l\",\"Sa\\u00fa\",\"Tecnologia da Informa\\u00e7\",\"Utilidade P\\u00fabli\",\"Bens Industri\",\"Comput e Eq\",\"Comunica\",\"Consumo C\\u00edcl\",\"Consumo N\\u00e3o-C\\u00edcl\",\"Diversos\",\"Finance\",\"Materiais B\\u00e1si\",\"Petr\\u00f3\",\"Sa\",\"Tecnologia da Informa\",\"Utilidade P\\u00fablica\"],\"name\":\"\",\"parents\":[\"Consumo N\\u00e3o-C\\u00edcl/Consumo N\\u00e3o-C\\u00edcli\",\"Consumo C\\u00edcl/Consumo C\\u00edcli\",\"Consumo C\\u00edcl/Consumo C\\u00edcli\",\"Consumo N\\u00e3o-C\\u00edcl/Consumo N\\u00e3o-C\\u00edcli\",\"Bens Industri/Bens Industria\",\"Finance/Financei\",\"Finance/Financei\",\"Finance/Financei\",\"Finance/Financei\",\"Finance/Financei\",\"Consumo N\\u00e3o-C\\u00edcl/Consumo N\\u00e3o-C\\u00edcli\",\"Finance/Financei\",\"Finance/Financei\",\"Finance/Financei\",\"Materiais B\\u00e1si/Materiais B\\u00e1sic\",\"Consumo N\\u00e3o-C\\u00edcl/Consumo N\\u00e3o-C\\u00edcli\",\"Materiais B\\u00e1si/Materiais B\\u00e1sic\",\"Finance/Financei\",\"Tecnologia da Informa/Tecnologia da Informa\\u00e7\",\"Bens Industri/Bens Industria\",\"Finance/Financei\",\"Utilidade P\\u00fablica/Utilidade P\\u00fabli\",\"Materiais B\\u00e1si/Materiais B\\u00e1sic\",\"Diversos/Diversos\",\"Utilidade P\\u00fablica/Utilidade P\\u00fabli\",\"Utilidade P\\u00fablica/Utilidade P\\u00fabli\",\"Consumo N\\u00e3o-C\\u00edcl/Consumo N\\u00e3o-C\\u00edcli\",\"Petr\\u00f3/Petr\\u00f3l\",\"Materiais B\\u00e1si/Materiais B\\u00e1sic\",\"Consumo C\\u00edcl/Consumo C\\u00edcli\",\"Consumo C\\u00edcl/Consumo C\\u00edcli\",\"Materiais B\\u00e1si/Materiais B\\u00e1sic\",\"Bens Industri/Bens Industria\",\"Utilidade P\\u00fablica/Utilidade P\\u00fabli\",\"Utilidade P\\u00fablica/Utilidade P\\u00fabli\",\"Utilidade P\\u00fablica/Utilidade P\\u00fabli\",\"Bens Industri/Bens Industria\",\"Utilidade P\\u00fablica/Utilidade P\\u00fabli\",\"Utilidade P\\u00fablica/Utilidade P\\u00fabli\",\"Utilidade P\\u00fablica/Utilidade P\\u00fabli\",\"Utilidade P\\u00fablica/Utilidade P\\u00fabli\",\"Consumo C\\u00edcl/Consumo C\\u00edcli\",\"Sa/Sa\\u00fa\",\"Materiais B\\u00e1si/Materiais B\\u00e1sic\",\"Materiais B\\u00e1si/Materiais B\\u00e1sic\",\"Bens Industri/Bens Industria\",\"Sa/Sa\\u00fa\",\"Sa/Sa\\u00fa\",\"Finance/Financei\",\"Finance/Financei\",\"Finance/Financei\",\"Finance/Financei\",\"Consumo N\\u00e3o-C\\u00edcl/Consumo N\\u00e3o-C\\u00edcli\",\"Consumo C\\u00edcl/Consumo C\\u00edcli\",\"Materiais B\\u00e1si/Materiais B\\u00e1sic\",\"Diversos/Diversos\",\"Consumo C\\u00edcl/Consumo C\\u00edcli\",\"Tecnologia da Informa/Tecnologia da Informa\\u00e7\",\"Consumo C\\u00edcl/Consumo C\\u00edcli\",\"Consumo N\\u00e3o-C\\u00edcl/Consumo N\\u00e3o-C\\u00edcli\",\"Consumo C\\u00edcl/Consumo C\\u00edcli\",\"Finance/Financei\",\"Consumo N\\u00e3o-C\\u00edcl/Consumo N\\u00e3o-C\\u00edcli\",\"Consumo N\\u00e3o-C\\u00edcl/Consumo N\\u00e3o-C\\u00edcli\",\"Petr\\u00f3/Petr\\u00f3l\",\"Petr\\u00f3/Petr\\u00f3l\",\"Consumo C\\u00edcl/Consumo C\\u00edcli\",\"Comput e Eq/Comput e Equ\",\"Petr\\u00f3/Petr\\u00f3l\",\"Sa/Sa\\u00fa\",\"Sa/Sa\\u00fa\",\"Bens Industri/Bens Industria\",\"Sa/Sa\\u00fa\",\"Diversos/Diversos\",\"Petr\\u00f3/Petr\\u00f3l\",\"Finance/Financei\",\"Utilidade P\\u00fablica/Utilidade P\\u00fabli\",\"Consumo C\\u00edcl/Consumo C\\u00edcli\",\"Finance/Financei\",\"Materiais B\\u00e1si/Materiais B\\u00e1sic\",\"Utilidade P\\u00fablica/Utilidade P\\u00fabli\",\"Comunica/Comunica\\u00e7\",\"Tecnologia da Informa/Tecnologia da Informa\\u00e7\",\"Petr\\u00f3/Petr\\u00f3l\",\"Materiais B\\u00e1si/Materiais B\\u00e1sic\",\"Materiais B\\u00e1si/Materiais B\\u00e1sic\",\"Petr\\u00f3/Petr\\u00f3l\",\"Consumo C\\u00edcl/Consumo C\\u00edcli\",\"Comunica/Comunica\\u00e7\",\"Bens Industri/Bens Industria\",\"Diversos/Diversos\",\"Bens Industri\",\"Comput e Eq\",\"Comunica\",\"Consumo C\\u00edcl\",\"Consumo N\\u00e3o-C\\u00edcl\",\"Diversos\",\"Finance\",\"Materiais B\\u00e1si\",\"Petr\\u00f3\",\"Sa\",\"Tecnologia da Informa\",\"Utilidade P\\u00fablica\",\"\",\"\",\"\",\"\",\"\",\"\",\"\",\"\",\"\",\"\",\"\",\"\"],\"values\":[2.992,0.234,0.747,0.596,0.354,3.968,2.267,1.101,4.547,0.787,0.153,0.44,1.472,0.149,0.371,0.784,0.533,0.331,0.053,0.691,0.188,0.756,0.296,0.233,0.289,0.529,0.438,1.244,0.753,0.153,0.198,0.178,0.118,0.514,0.69,0.454,0.454,0.237,0.89,0.538,1.311,0.078,0.208,1.467,0.372,0.128,2.14,0.735,0.162,0.177,2.177,5.686,2.199,0.087,0.851,0.379,1.17,0.163,0.788,0.329,0.152,0.302,1.005,0.176,4.516,7.048,0.229,0.03,0.909,0.179,1.108,1.023,1.147,1.57,0.403,0.58,0.783,0.303,0.399,1.773,0.444,0.5,0.849,0.7,0.306,16.362,1.122,0.257,1.048,2.191,0.259,4.959,0.03,1.548,4.396,8.672,2.4410000000000003,24.733,23.262,15.942,5.517,1.065,7.4350000000000005,4.959,0.03,1.548,4.396,8.672,2.4410000000000003,24.733,23.262,15.942,5.517,1.065,7.4350000000000005],\"type\":\"sunburst\",\"textfont\":{\"color\":\"white\",\"size\":14}}],                        {\"template\":{\"data\":{\"bar\":[{\"error_x\":{\"color\":\"#2a3f5f\"},\"error_y\":{\"color\":\"#2a3f5f\"},\"marker\":{\"line\":{\"color\":\"#E5ECF6\",\"width\":0.5},\"pattern\":{\"fillmode\":\"overlay\",\"size\":10,\"solidity\":0.2}},\"type\":\"bar\"}],\"barpolar\":[{\"marker\":{\"line\":{\"color\":\"#E5ECF6\",\"width\":0.5},\"pattern\":{\"fillmode\":\"overlay\",\"size\":10,\"solidity\":0.2}},\"type\":\"barpolar\"}],\"carpet\":[{\"aaxis\":{\"endlinecolor\":\"#2a3f5f\",\"gridcolor\":\"white\",\"linecolor\":\"white\",\"minorgridcolor\":\"white\",\"startlinecolor\":\"#2a3f5f\"},\"baxis\":{\"endlinecolor\":\"#2a3f5f\",\"gridcolor\":\"white\",\"linecolor\":\"white\",\"minorgridcolor\":\"white\",\"startlinecolor\":\"#2a3f5f\"},\"type\":\"carpet\"}],\"choropleth\":[{\"colorbar\":{\"outlinewidth\":0,\"ticks\":\"\"},\"type\":\"choropleth\"}],\"contour\":[{\"colorbar\":{\"outlinewidth\":0,\"ticks\":\"\"},\"colorscale\":[[0.0,\"#0d0887\"],[0.1111111111111111,\"#46039f\"],[0.2222222222222222,\"#7201a8\"],[0.3333333333333333,\"#9c179e\"],[0.4444444444444444,\"#bd3786\"],[0.5555555555555556,\"#d8576b\"],[0.6666666666666666,\"#ed7953\"],[0.7777777777777778,\"#fb9f3a\"],[0.8888888888888888,\"#fdca26\"],[1.0,\"#f0f921\"]],\"type\":\"contour\"}],\"contourcarpet\":[{\"colorbar\":{\"outlinewidth\":0,\"ticks\":\"\"},\"type\":\"contourcarpet\"}],\"heatmap\":[{\"colorbar\":{\"outlinewidth\":0,\"ticks\":\"\"},\"colorscale\":[[0.0,\"#0d0887\"],[0.1111111111111111,\"#46039f\"],[0.2222222222222222,\"#7201a8\"],[0.3333333333333333,\"#9c179e\"],[0.4444444444444444,\"#bd3786\"],[0.5555555555555556,\"#d8576b\"],[0.6666666666666666,\"#ed7953\"],[0.7777777777777778,\"#fb9f3a\"],[0.8888888888888888,\"#fdca26\"],[1.0,\"#f0f921\"]],\"type\":\"heatmap\"}],\"heatmapgl\":[{\"colorbar\":{\"outlinewidth\":0,\"ticks\":\"\"},\"colorscale\":[[0.0,\"#0d0887\"],[0.1111111111111111,\"#46039f\"],[0.2222222222222222,\"#7201a8\"],[0.3333333333333333,\"#9c179e\"],[0.4444444444444444,\"#bd3786\"],[0.5555555555555556,\"#d8576b\"],[0.6666666666666666,\"#ed7953\"],[0.7777777777777778,\"#fb9f3a\"],[0.8888888888888888,\"#fdca26\"],[1.0,\"#f0f921\"]],\"type\":\"heatmapgl\"}],\"histogram\":[{\"marker\":{\"pattern\":{\"fillmode\":\"overlay\",\"size\":10,\"solidity\":0.2}},\"type\":\"histogram\"}],\"histogram2d\":[{\"colorbar\":{\"outlinewidth\":0,\"ticks\":\"\"},\"colorscale\":[[0.0,\"#0d0887\"],[0.1111111111111111,\"#46039f\"],[0.2222222222222222,\"#7201a8\"],[0.3333333333333333,\"#9c179e\"],[0.4444444444444444,\"#bd3786\"],[0.5555555555555556,\"#d8576b\"],[0.6666666666666666,\"#ed7953\"],[0.7777777777777778,\"#fb9f3a\"],[0.8888888888888888,\"#fdca26\"],[1.0,\"#f0f921\"]],\"type\":\"histogram2d\"}],\"histogram2dcontour\":[{\"colorbar\":{\"outlinewidth\":0,\"ticks\":\"\"},\"colorscale\":[[0.0,\"#0d0887\"],[0.1111111111111111,\"#46039f\"],[0.2222222222222222,\"#7201a8\"],[0.3333333333333333,\"#9c179e\"],[0.4444444444444444,\"#bd3786\"],[0.5555555555555556,\"#d8576b\"],[0.6666666666666666,\"#ed7953\"],[0.7777777777777778,\"#fb9f3a\"],[0.8888888888888888,\"#fdca26\"],[1.0,\"#f0f921\"]],\"type\":\"histogram2dcontour\"}],\"mesh3d\":[{\"colorbar\":{\"outlinewidth\":0,\"ticks\":\"\"},\"type\":\"mesh3d\"}],\"parcoords\":[{\"line\":{\"colorbar\":{\"outlinewidth\":0,\"ticks\":\"\"}},\"type\":\"parcoords\"}],\"pie\":[{\"automargin\":true,\"type\":\"pie\"}],\"scatter\":[{\"marker\":{\"colorbar\":{\"outlinewidth\":0,\"ticks\":\"\"}},\"type\":\"scatter\"}],\"scatter3d\":[{\"line\":{\"colorbar\":{\"outlinewidth\":0,\"ticks\":\"\"}},\"marker\":{\"colorbar\":{\"outlinewidth\":0,\"ticks\":\"\"}},\"type\":\"scatter3d\"}],\"scattercarpet\":[{\"marker\":{\"colorbar\":{\"outlinewidth\":0,\"ticks\":\"\"}},\"type\":\"scattercarpet\"}],\"scattergeo\":[{\"marker\":{\"colorbar\":{\"outlinewidth\":0,\"ticks\":\"\"}},\"type\":\"scattergeo\"}],\"scattergl\":[{\"marker\":{\"colorbar\":{\"outlinewidth\":0,\"ticks\":\"\"}},\"type\":\"scattergl\"}],\"scattermapbox\":[{\"marker\":{\"colorbar\":{\"outlinewidth\":0,\"ticks\":\"\"}},\"type\":\"scattermapbox\"}],\"scatterpolar\":[{\"marker\":{\"colorbar\":{\"outlinewidth\":0,\"ticks\":\"\"}},\"type\":\"scatterpolar\"}],\"scatterpolargl\":[{\"marker\":{\"colorbar\":{\"outlinewidth\":0,\"ticks\":\"\"}},\"type\":\"scatterpolargl\"}],\"scatterternary\":[{\"marker\":{\"colorbar\":{\"outlinewidth\":0,\"ticks\":\"\"}},\"type\":\"scatterternary\"}],\"surface\":[{\"colorbar\":{\"outlinewidth\":0,\"ticks\":\"\"},\"colorscale\":[[0.0,\"#0d0887\"],[0.1111111111111111,\"#46039f\"],[0.2222222222222222,\"#7201a8\"],[0.3333333333333333,\"#9c179e\"],[0.4444444444444444,\"#bd3786\"],[0.5555555555555556,\"#d8576b\"],[0.6666666666666666,\"#ed7953\"],[0.7777777777777778,\"#fb9f3a\"],[0.8888888888888888,\"#fdca26\"],[1.0,\"#f0f921\"]],\"type\":\"surface\"}],\"table\":[{\"cells\":{\"fill\":{\"color\":\"#EBF0F8\"},\"line\":{\"color\":\"white\"}},\"header\":{\"fill\":{\"color\":\"#C8D4E3\"},\"line\":{\"color\":\"white\"}},\"type\":\"table\"}]},\"layout\":{\"annotationdefaults\":{\"arrowcolor\":\"#2a3f5f\",\"arrowhead\":0,\"arrowwidth\":1},\"autotypenumbers\":\"strict\",\"coloraxis\":{\"colorbar\":{\"outlinewidth\":0,\"ticks\":\"\"}},\"colorscale\":{\"diverging\":[[0,\"#8e0152\"],[0.1,\"#c51b7d\"],[0.2,\"#de77ae\"],[0.3,\"#f1b6da\"],[0.4,\"#fde0ef\"],[0.5,\"#f7f7f7\"],[0.6,\"#e6f5d0\"],[0.7,\"#b8e186\"],[0.8,\"#7fbc41\"],[0.9,\"#4d9221\"],[1,\"#276419\"]],\"sequential\":[[0.0,\"#0d0887\"],[0.1111111111111111,\"#46039f\"],[0.2222222222222222,\"#7201a8\"],[0.3333333333333333,\"#9c179e\"],[0.4444444444444444,\"#bd3786\"],[0.5555555555555556,\"#d8576b\"],[0.6666666666666666,\"#ed7953\"],[0.7777777777777778,\"#fb9f3a\"],[0.8888888888888888,\"#fdca26\"],[1.0,\"#f0f921\"]],\"sequentialminus\":[[0.0,\"#0d0887\"],[0.1111111111111111,\"#46039f\"],[0.2222222222222222,\"#7201a8\"],[0.3333333333333333,\"#9c179e\"],[0.4444444444444444,\"#bd3786\"],[0.5555555555555556,\"#d8576b\"],[0.6666666666666666,\"#ed7953\"],[0.7777777777777778,\"#fb9f3a\"],[0.8888888888888888,\"#fdca26\"],[1.0,\"#f0f921\"]]},\"colorway\":[\"#636efa\",\"#EF553B\",\"#00cc96\",\"#ab63fa\",\"#FFA15A\",\"#19d3f3\",\"#FF6692\",\"#B6E880\",\"#FF97FF\",\"#FECB52\"],\"font\":{\"color\":\"#2a3f5f\"},\"geo\":{\"bgcolor\":\"white\",\"lakecolor\":\"white\",\"landcolor\":\"#E5ECF6\",\"showlakes\":true,\"showland\":true,\"subunitcolor\":\"white\"},\"hoverlabel\":{\"align\":\"left\"},\"hovermode\":\"closest\",\"mapbox\":{\"style\":\"light\"},\"paper_bgcolor\":\"white\",\"plot_bgcolor\":\"#E5ECF6\",\"polar\":{\"angularaxis\":{\"gridcolor\":\"white\",\"linecolor\":\"white\",\"ticks\":\"\"},\"bgcolor\":\"#E5ECF6\",\"radialaxis\":{\"gridcolor\":\"white\",\"linecolor\":\"white\",\"ticks\":\"\"}},\"scene\":{\"xaxis\":{\"backgroundcolor\":\"#E5ECF6\",\"gridcolor\":\"white\",\"gridwidth\":2,\"linecolor\":\"white\",\"showbackground\":true,\"ticks\":\"\",\"zerolinecolor\":\"white\"},\"yaxis\":{\"backgroundcolor\":\"#E5ECF6\",\"gridcolor\":\"white\",\"gridwidth\":2,\"linecolor\":\"white\",\"showbackground\":true,\"ticks\":\"\",\"zerolinecolor\":\"white\"},\"zaxis\":{\"backgroundcolor\":\"#E5ECF6\",\"gridcolor\":\"white\",\"gridwidth\":2,\"linecolor\":\"white\",\"showbackground\":true,\"ticks\":\"\",\"zerolinecolor\":\"white\"}},\"shapedefaults\":{\"line\":{\"color\":\"#2a3f5f\"}},\"ternary\":{\"aaxis\":{\"gridcolor\":\"white\",\"linecolor\":\"white\",\"ticks\":\"\"},\"baxis\":{\"gridcolor\":\"white\",\"linecolor\":\"white\",\"ticks\":\"\"},\"bgcolor\":\"#E5ECF6\",\"caxis\":{\"gridcolor\":\"white\",\"linecolor\":\"white\",\"ticks\":\"\"}},\"title\":{\"x\":0.05},\"xaxis\":{\"automargin\":true,\"gridcolor\":\"white\",\"linecolor\":\"white\",\"ticks\":\"\",\"title\":{\"standoff\":15},\"zerolinecolor\":\"white\",\"zerolinewidth\":2},\"yaxis\":{\"automargin\":true,\"gridcolor\":\"white\",\"linecolor\":\"white\",\"ticks\":\"\",\"title\":{\"standoff\":15},\"zerolinecolor\":\"white\",\"zerolinewidth\":2}}},\"legend\":{\"tracegroupgap\":0},\"margin\":{\"t\":60},\"height\":1000},                        {\"responsive\": true}                    ).then(function(){\n",
              "                            \n",
              "var gd = document.getElementById('4a84f74f-3b58-4112-ba0e-9f1ef757e6ee');\n",
              "var x = new MutationObserver(function (mutations, observer) {{\n",
              "        var display = window.getComputedStyle(gd).display;\n",
              "        if (!display || display === 'none') {{\n",
              "            console.log([gd, 'removed!']);\n",
              "            Plotly.purge(gd);\n",
              "            observer.disconnect();\n",
              "        }}\n",
              "}});\n",
              "\n",
              "// Listen for the removal of the full notebook cells\n",
              "var notebookContainer = gd.closest('#notebook-container');\n",
              "if (notebookContainer) {{\n",
              "    x.observe(notebookContainer, {childList: true});\n",
              "}}\n",
              "\n",
              "// Listen for the clearing of the current output cell\n",
              "var outputEl = gd.closest('.output');\n",
              "if (outputEl) {{\n",
              "    x.observe(outputEl, {childList: true});\n",
              "}}\n",
              "\n",
              "                        })                };                            </script>        </div>\n",
              "</body>\n",
              "</html>"
            ]
          },
          "metadata": {}
        }
      ]
    },
    {
      "cell_type": "code",
      "source": [
        "#TREEMAP\n",
        "\n",
        "fig2=pl.treemap(data_frame=base,path=['Setor','SubSetor','Código'], values='Part. (%)', height=1000)\n",
        "fig2.update_traces(textfont_color='white',\n",
        "                  textfont_size=14,\n",
        "                  hovertemplate='<b>%{label}:</b> %{value:.2f}%')"
      ],
      "metadata": {
        "id": "HqEUZZnYIJOG"
      },
      "execution_count": null,
      "outputs": []
    }
  ]
}