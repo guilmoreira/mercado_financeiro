{
  "cells": [
    {
      "cell_type": "markdown",
      "metadata": {
        "id": "view-in-github",
        "colab_type": "text"
      },
      "source": [
        "<a href=\"https://colab.research.google.com/github/guilmoreira/mercado_financeiro/blob/main/IBOV_carteira_hipot%C3%A9tica_di%C3%A1ria.ipynb\" target=\"_parent\"><img src=\"https://colab.research.google.com/assets/colab-badge.svg\" alt=\"Open In Colab\"/></a>"
      ]
    },
    {
      "cell_type": "markdown",
      "metadata": {
        "id": "LzfwRwhPX9jv"
      },
      "source": [
        "##**1. INSTALANDO BIBLIOTECAS**\n",
        "\n",
        "\n",
        "\n",
        "---\n",
        "\n",
        "\n",
        "```\n",
        "# Esta etapa irá instalar as bibliotecas necessárias para funcionamento do código\n",
        "```\n",
        "\n"
      ]
    },
    {
      "cell_type": "code",
      "execution_count": null,
      "metadata": {
        "id": "f4Er_8wIXsTB"
      },
      "outputs": [],
      "source": [
        "!pip install -U plotly -q\n",
        "!pip install numpy -q\n",
        "!pip install kora -q\n",
        "!pip install selenium -q"
      ]
    },
    {
      "cell_type": "markdown",
      "metadata": {
        "id": "ykTv-bZNZg55"
      },
      "source": [
        "##**2. IMPORTANDO BIBLIOTECAS**\n",
        "\n",
        "---\n",
        "\n",
        "\n",
        "```\n",
        "# Importando as bibliotecas\n",
        "```\n",
        "\n",
        "\n"
      ]
    },
    {
      "cell_type": "code",
      "execution_count": 4,
      "metadata": {
        "id": "ernWvftJZfL7"
      },
      "outputs": [],
      "source": [
        "import pandas as pd\n",
        "import numpy as np\n",
        "import plotly.express as pl\n",
        "import time\n",
        "from time import sleep\n",
        "\n",
        "#Usando selenium no google colab\n",
        "from selenium.webdriver.common.by import By\n",
        "from kora.selenium import wd\n",
        "from datetime import date, timedelta\n",
        "\n",
        "#Validando certificado SSL. Não funciona sem esta validação\n",
        "import ssl\n",
        "\n",
        "\n",
        "ssl._create_default_https_context = ssl._create_unverified_context"
      ]
    },
    {
      "cell_type": "markdown",
      "metadata": {
        "id": "XGZgADe4Zo5f"
      },
      "source": [
        "##**3. VARIÁVEIS INICIAIS**\n",
        "\n",
        "---\n",
        "\n",
        "\n",
        "```\n",
        "# Variável de data utilizada devido ao nome do arquivo\n",
        "```\n",
        "\n",
        "\n"
      ]
    },
    {
      "cell_type": "code",
      "execution_count": 5,
      "metadata": {
        "id": "ZGwJb5b4ZDOI"
      },
      "outputs": [],
      "source": [
        "#DATA ÚTIL MAIS RECENTE\n",
        "periodo=date.today()\n",
        "dsemana=periodo.weekday()\n",
        "\n",
        "if dsemana==5:\n",
        "  periodo=str(date.today()+timedelta(days=+2))\n",
        "elif dsemana==6:\n",
        "  periodo=str(date.today()+timedelta(days=+1))\n",
        "else:\n",
        "  periodo=str(date.today())"
      ]
    },
    {
      "cell_type": "code",
      "source": [
        "periodo"
      ],
      "metadata": {
        "colab": {
          "base_uri": "https://localhost:8080/",
          "height": 35
        },
        "id": "r8nNYbeEonFr",
        "outputId": "b0f278d8-1298-448b-befb-ff5423141e86"
      },
      "execution_count": 6,
      "outputs": [
        {
          "output_type": "execute_result",
          "data": {
            "text/plain": [
              "'2022-06-13'"
            ],
            "application/vnd.google.colaboratory.intrinsic+json": {
              "type": "string"
            }
          },
          "metadata": {},
          "execution_count": 6
        }
      ]
    },
    {
      "cell_type": "code",
      "source": [
        "periodo[8:]"
      ],
      "metadata": {
        "colab": {
          "base_uri": "https://localhost:8080/",
          "height": 35
        },
        "id": "gtLH9wuuox6L",
        "outputId": "33c73076-c993-408e-d220-dfb9e1a9f47a"
      },
      "execution_count": 7,
      "outputs": [
        {
          "output_type": "execute_result",
          "data": {
            "text/plain": [
              "'13'"
            ],
            "application/vnd.google.colaboratory.intrinsic+json": {
              "type": "string"
            }
          },
          "metadata": {},
          "execution_count": 7
        }
      ]
    },
    {
      "cell_type": "markdown",
      "metadata": {
        "id": "Gkck4icaZJJH"
      },
      "source": [
        "##**4. ÍNDICE**\n",
        "\n",
        "```\n",
        "# DEFINIR ÍNDICE DE ESTUDO\n",
        "```\n",
        "---\n"
      ]
    },
    {
      "cell_type": "code",
      "execution_count": 8,
      "metadata": {
        "colab": {
          "base_uri": "https://localhost:8080/",
          "height": 35
        },
        "id": "14j-yGQ7ZUG2",
        "outputId": "c559a750-3d7e-4c72-9b72-d40e360ae4e2"
      },
      "outputs": [
        {
          "output_type": "execute_result",
          "data": {
            "text/plain": [
              "'IBOV'"
            ],
            "application/vnd.google.colaboratory.intrinsic+json": {
              "type": "string"
            }
          },
          "metadata": {},
          "execution_count": 8
        }
      ],
      "source": [
        "indice_b3='ibov'\n",
        "indice_b3=indice_b3.upper()\n",
        "indice_b3"
      ]
    },
    {
      "cell_type": "markdown",
      "metadata": {
        "id": "H4orUGDRaDwv"
      },
      "source": [
        "##**5.FUNÇÃO EXTRAINDO TICKERS POR ÍNDICE**\n",
        "\n",
        "---\n",
        "\n",
        "\n",
        "\n",
        "```\n",
        "# FUNÇÃO QUE EXTRAÍ A CARTEIRA HIPOTÉTICA PARA O ÍNDICE NAQUELA DATA OU PRÓXIMO DIA ÚTIL\n",
        "# NESTA VERSÃO NÃO FUNCIONA NO SÁBADO OU DOMINGO\n",
        "# NECESSÁRIO ATUALIZAR O \"find_element\"\n",
        "```\n",
        "\n",
        "\n"
      ]
    },
    {
      "cell_type": "markdown",
      "metadata": {
        "id": "H09lw_SHbWxb"
      },
      "source": [
        "5.1 **Referências utilizadas (03/28/2022)**\n",
        "\n",
        "https://www.b3.com.br/pt_br/market-data-e-indices/indices/indices-amplos/indice-ibovespa-ibovespa-composicao-da-carteira.htm\n",
        "\n",
        "https://sistemaswebb3-listados.b3.com.br/indexPage/day/IBOV?language=pt-br\n"
      ]
    },
    {
      "cell_type": "code",
      "source": [
        "#WEBSCRAPPING DA B3\n",
        "def composicao_indice2(indice, delay=10):\n",
        "  link=f'https://sistemaswebb3-listados.b3.com.br/indexPage/day/{indice}?language=pt-br'\n",
        "  wd.get(link)\n",
        "  sleep(5)\n",
        "  wd.find_element(By.ID, \"segment\").send_keys('Setor de Atuação')\n",
        "  sleep(delay)\n",
        "  wd.find_element(By.LINK_TEXT, \"Download\").click()\n",
        "  sleep(5)\n",
        "  arquivo=f'/content/{indice.upper()}Dia_{periodo[8:]}-{periodo[5:7]}-{periodo[2:4]}.csv'\n",
        "  return pd.read_csv(arquivo, sep=';',encoding='ISO-8859-1',skipfooter=2,engine='python',thousands='.',decimal=',',header=1,index_col=False)"
      ],
      "metadata": {
        "id": "YjzrXe_tobYf"
      },
      "execution_count": 10,
      "outputs": []
    },
    {
      "cell_type": "markdown",
      "metadata": {
        "id": "4UeY5OK4DMCY"
      },
      "source": [
        "##**6. EXTRAÇÃO DOS ARQUIVOS**\n",
        "\n",
        "---\n",
        "\n",
        "\n",
        "\n",
        "```\n",
        "# DOWNLOAD DOS ARQUIVOS PARA OS ÍNDICES.\n",
        "# GERADA UMA DATABASE (geral) com as carteiras\n",
        "```\n",
        "\n"
      ]
    },
    {
      "cell_type": "code",
      "source": [
        "ibov=composicao_indice2(indice_b3, delay=10)"
      ],
      "metadata": {
        "id": "Co2606hDpddz"
      },
      "execution_count": 15,
      "outputs": []
    },
    {
      "cell_type": "markdown",
      "metadata": {
        "id": "VWiam19JIYXV"
      },
      "source": [
        "##**7. TRATANDO OS DADOS**\n",
        "\n",
        "---\n",
        "\n",
        "\n",
        "```\n",
        "# NECESSÁRIO AJUSTE NOS DADOS INDIVIDUALIZADOS\n",
        "# DEIXEI UM PADRÃO PARA O IBOV\n",
        "```\n",
        "\n"
      ]
    },
    {
      "cell_type": "code",
      "execution_count": 17,
      "metadata": {
        "id": "fJIcXYVBJBbp"
      },
      "outputs": [],
      "source": [
        "#VERIRICANDO DISCREPÂCIAS\n",
        "def renomear_setor(setor):\n",
        "  if setor == 'Cons N  Básico' or setor=='Cons N Cíclico': return 'Consumo Não-Cíclico'\n",
        "  if setor == 'Financeiro e Outros' or setor=='Financ e Outros': return 'Financeiro'\n",
        "  if setor == 'Telecomunica' : return 'Telecomunicação'\n",
        "  if setor == 'Utilidade Públ' : return 'Utilidade Pública'\n",
        "  if setor == 'Bens Indls' : return 'Bens Industriais'\n",
        "  if setor == 'Mats Básicos' : return 'Materiais Básicos'\n",
        "  if setor == 'Petróleo' : return 'Petróleo'  \n",
        "  if setor == 'Saúde' : return 'Saúde'  \n",
        "  if setor == 'Tec.Informação' : return 'Tecnologia da Informação'  \n",
        "  if setor == 'Telecomunicaçã' : return 'Comunicação'\n",
        "  if setor == 'Diverso' : return 'Diversos'  \n",
        "  if setor == 'Consumo Cíclico' : return 'Consumo Cíclico'\n",
        "  if setor == 'Comput e Equips' : return 'Comput e Equips'\n",
        "  else: return setor"
      ]
    },
    {
      "cell_type": "code",
      "execution_count": 18,
      "metadata": {
        "id": "w6FKvpDpU8MA"
      },
      "outputs": [],
      "source": [
        "def renomear_subsetor(subsetor):\n",
        "  if subsetor == 'Máqs e Equips' : return 'Máquinas e Equipamentos'\n",
        "  if subsetor == 'Mat Transporte' : return 'Material de Transporte'\n",
        "  if subsetor == 'Comput e Equips' : return 'Computadores e Equipamentos'\n",
        "  if subsetor == 'Comércio Distr.' : return 'Comércio e Distribuição'\n",
        "  if subsetor == 'Pr Pessoal Limp' : return 'Produtos Limpeza'\n",
        "  if subsetor == 'Tecid Vest Calç' : return 'Tecido, Vestuário e Calçados'\n",
        "  if subsetor == 'Constr Civil' : return 'Construção Civil'\n",
        "  if subsetor == 'Explor Imóveis' : return 'Exploração de Imóveis'\n",
        "  if subsetor == 'Interms Financs' : return 'Intermediários Financeiro'\n",
        "  if subsetor == 'Previd  Seguros' : return 'Previdência e Seguros'\n",
        "  if subsetor == 'Sid Metalurgia' : return 'Siderurgia e Metalurgia'\n",
        "  if subsetor == 'SM Hosp An.Diag' : return 'Serviços Médicos - Hospitalares, Análises e Diagnósticos'\n",
        "  if subsetor == 'Programas Servs' : return 'Programas e Serviços'  \n",
        "  if subsetor == 'Energ Elétrica' : return 'Energia Elétrica'\n",
        "  if subsetor == 'Gás e Biocombustíveis' : return 'Petróleo, Gás e Biocombustíveis'\n",
        "  if subsetor == 'Alimentos Processados' : return 'Alimentos Processados'\n",
        "  if subsetor == 'Transportes' : return 'Transporte'\n",
        "  if subsetor == 'Viagens e Lazer' : return 'Viagens e Lazer'\n",
        "  if subsetor == 'Madeira e Papel' : return 'Madeira e Papel'\n",
        "  if subsetor == 'Serviços Financeiros Diversos' : return 'Serviços Financeiros Diversos'\n",
        "  if subsetor == 'Mineração' : return 'Mineração'\n",
        "  if subsetor == 'Água Saneamento' : return 'Água Saneamento'  \n",
        "  if subsetor == 'Telecomunicação' : return 'Telecomunicação'  \n",
        "  if subsetor == 'Comércio' : return 'Comércio'\n",
        "  if subsetor == 'Químicos' : return 'Químicos'\n",
        "  if subsetor == 'Bebidas' : return 'Bebidas'\n",
        "  if subsetor == 'Transporte' : return 'Transporte'     \n",
        "  if subsetor == 'Diversos' : return 'Diversos'\n",
        "  else: return subsetor\n",
        "\n",
        "#TRATAR OS DADOS\n",
        "\n",
        "#Criando uma coluna de subsetor partindo da barra\n",
        "ibov['SubSetor']=ibov['Setor'].apply(lambda s: s[s.rfind('/')+1:].strip())\n",
        "#Subscrevendo a coluna de Setor com dados antes da barra\n",
        "ibov['Setor']=ibov['Setor'].apply(lambda s: s[:s.rfind('/')].strip())\n",
        "#Aplicando função\n",
        "ibov['Setor']=ibov['Setor'].apply(renomear_setor)\n",
        "ibov['SubSetor']=ibov['SubSetor'].apply(renomear_subsetor)"
      ]
    },
    {
      "cell_type": "markdown",
      "metadata": {
        "id": "OkhatMy3cWKJ"
      },
      "source": [
        "##**8. GRÁFICOS**\n",
        "\n",
        "---\n",
        "\n",
        "\n",
        "\n",
        "```\n",
        "# DADOS AJUSTADOS PARA IBOV\n",
        "```\n",
        "\n"
      ]
    },
    {
      "cell_type": "code",
      "execution_count": 26,
      "metadata": {
        "colab": {
          "base_uri": "https://localhost:8080/",
          "height": 834
        },
        "id": "0EiV8_lfIBuV",
        "outputId": "27b76564-b7c9-406f-e0b9-50ed87c52d2f"
      },
      "outputs": [
        {
          "output_type": "stream",
          "name": "stdout",
          "text": [
            "Data de referência:2022-06-13\n"
          ]
        },
        {
          "output_type": "display_data",
          "data": {
            "text/html": [
              "<html>\n",
              "<head><meta charset=\"utf-8\" /></head>\n",
              "<body>\n",
              "    <div>            <script src=\"https://cdnjs.cloudflare.com/ajax/libs/mathjax/2.7.5/MathJax.js?config=TeX-AMS-MML_SVG\"></script><script type=\"text/javascript\">if (window.MathJax && window.MathJax.Hub && window.MathJax.Hub.Config) {window.MathJax.Hub.Config({SVG: {font: \"STIX-Web\"}});}</script>                <script type=\"text/javascript\">window.PlotlyConfig = {MathJaxConfig: 'local'};</script>\n",
              "        <script src=\"https://cdn.plot.ly/plotly-2.12.1.min.js\"></script>                <div id=\"c57d716e-7a86-4df2-ab90-e4f3b05c1cae\" class=\"plotly-graph-div\" style=\"height:800px; width:800px;\"></div>            <script type=\"text/javascript\">                                    window.PLOTLYENV=window.PLOTLYENV || {};                                    if (document.getElementById(\"c57d716e-7a86-4df2-ab90-e4f3b05c1cae\")) {                    Plotly.newPlot(                        \"c57d716e-7a86-4df2-ab90-e4f3b05c1cae\",                        [{\"branchvalues\":\"total\",\"domain\":{\"x\":[0.0,1.0],\"y\":[0.0,1.0]},\"hovertemplate\":\"<b>%{label}:</b> %{value:.2f}%\",\"ids\":[\"Consumo N\\u00e3o-C\\u00edclico/Bebidas/ABEV3\",\"Consumo C\\u00edclico/Tecido, Vestu\\u00e1rio e Cal\\u00e7ados/ALPA4\",\"Consumo C\\u00edclico/Com\\u00e9rcio/AMER3\",\"Consumo N\\u00e3o-C\\u00edclico/Com\\u00e9rcio e Distribui\\u00e7\\u00e3o/ASAI3\",\"Bens Industriais/Transporte/AZUL4\",\"Financeiro/Servi\\u00e7os Financeiros Diversos/B3SA3\",\"Financeiro/Intermedi\\u00e1rios Financeiro/BBAS3\",\"Financeiro/Intermedi\\u00e1rios Financeiro/BBDC3\",\"Financeiro/Intermedi\\u00e1rios Financeiro/BBDC4\",\"Financeiro/Previd\\u00eancia e Seguros/BBSE3\",\"Consumo N\\u00e3o-C\\u00edclico/Alimentos Processados/BEEF3\",\"Financeiro/Intermedi\\u00e1rios Financeiro/BIDI11\",\"Financeiro/Intermedi\\u00e1rios Financeiro/BPAC11\",\"Financeiro/Intermedi\\u00e1rios Financeiro/BPAN4\",\"Materiais B\\u00e1sicos/Minera\\u00e7\\u00e3o/BRAP4\",\"Consumo N\\u00e3o-C\\u00edclico/Alimentos Processados/BRFS3\",\"Materiais B\\u00e1sicos/Qu\\u00edmicos/BRKM5\",\"Financeiro/Explora\\u00e7\\u00e3o de Im\\u00f3veis/BRML3\",\"Tecnologia da Informa\\u00e7\\u00e3o/Programas e Servi\\u00e7os/CASH3\",\"Bens Industriais/Transporte/CCRO3\",\"Financeiro/Servi\\u00e7os Financeiros Diversos/CIEL3\",\"Utilidade P\\u00fablica/Energia El\\u00e9trica/CMIG4\",\"Materiais B\\u00e1sicos/Minera\\u00e7\\u00e3o/CMIN3\",\"Diversos/Diversos/COGN3\",\"Utilidade P\\u00fablica/Energia El\\u00e9trica/CPFE3\",\"Utilidade P\\u00fablica/Energia El\\u00e9trica/CPLE6\",\"Consumo N\\u00e3o-C\\u00edclico/Com\\u00e9rcio e Distribui\\u00e7\\u00e3o/CRFB3\",\"Petr\\u00f3leo/Petr\\u00f3leo, G\\u00e1s e Biocombust\\u00edveis/CSAN3\",\"Materiais B\\u00e1sicos/Siderurgia e Metalurgia/CSNA3\",\"Consumo C\\u00edclico/Viagens e Lazer/CVCB3\",\"Consumo C\\u00edclico/Constru\\u00e7\\u00e3o Civil/CYRE3\",\"Materiais B\\u00e1sicos/Madeira e Papel/DXCO3\",\"Bens Industriais/Transporte/ECOR3\",\"Utilidade P\\u00fablica/Energia El\\u00e9trica/EGIE3\",\"Utilidade P\\u00fablica/Energia El\\u00e9trica/ELET3\",\"Utilidade P\\u00fablica/Energia El\\u00e9trica/ELET6\",\"Bens Industriais/Material de Transporte/EMBR3\",\"Utilidade P\\u00fablica/Energia El\\u00e9trica/ENBR3\",\"Utilidade P\\u00fablica/Energia El\\u00e9trica/ENEV3\",\"Utilidade P\\u00fablica/Energia El\\u00e9trica/ENGI11\",\"Utilidade P\\u00fablica/Energia El\\u00e9trica/EQTL3\",\"Consumo C\\u00edclico/Constru\\u00e7\\u00e3o Civil/EZTC3\",\"Sa\\u00fade/Servi\\u00e7os M\\u00e9dicos - Hospitalares, An\\u00e1lises e Diagn\\u00f3sticos/FLRY3\",\"Materiais B\\u00e1sicos/Siderurgia e Metalurgia/GGBR4\",\"Materiais B\\u00e1sicos/Siderurgia e Metalurgia/GOAU4\",\"Bens Industriais/Transporte/GOLL4\",\"Sa\\u00fade/Servi\\u00e7os M\\u00e9dicos - Hospitalares, An\\u00e1lises e Diagn\\u00f3sticos/HAPV3\",\"Sa\\u00fade/Com\\u00e9rcio e Distribui\\u00e7\\u00e3o/HYPE3\",\"Financeiro/Explora\\u00e7\\u00e3o de Im\\u00f3veis/IGTI11\",\"Financeiro/Previd\\u00eancia e Seguros/IRBR3\",\"Financeiro/Intermedi\\u00e1rios Financeiro/ITSA4\",\"Financeiro/Intermedi\\u00e1rios Financeiro/ITUB4\",\"Consumo N\\u00e3o-C\\u00edclico/Alimentos Processados/JBSS3\",\"Consumo C\\u00edclico/Constru\\u00e7\\u00e3o Civil/JHSF3\",\"Materiais B\\u00e1sicos/Madeira e Papel/KLBN11\",\"Diversos/Diversos/LCAM3\",\"Consumo C\\u00edclico/Com\\u00e9rcio/LREN3\",\"Tecnologia da Informa\\u00e7\\u00e3o/Programas e Servi\\u00e7os/LWSA3\",\"Consumo C\\u00edclico/Com\\u00e9rcio/MGLU3\",\"Consumo N\\u00e3o-C\\u00edclico/Alimentos Processados/MRFG3\",\"Consumo C\\u00edclico/Constru\\u00e7\\u00e3o Civil/MRVE3\",\"Financeiro/Explora\\u00e7\\u00e3o de Im\\u00f3veis/MULT3\",\"Consumo N\\u00e3o-C\\u00edclico/Produtos Limpeza/NTCO3\",\"Consumo N\\u00e3o-C\\u00edclico/Com\\u00e9rcio e Distribui\\u00e7\\u00e3o/PCAR3\",\"Petr\\u00f3leo/Petr\\u00f3leo, G\\u00e1s e Biocombust\\u00edveis/PETR3\",\"Petr\\u00f3leo/Petr\\u00f3leo, G\\u00e1s e Biocombust\\u00edveis/PETR4\",\"Consumo C\\u00edclico/Com\\u00e9rcio/PETZ3\",\"Comput e Equip/Computadores e Equipamentos/POSI3\",\"Petr\\u00f3leo/Petr\\u00f3leo, G\\u00e1s e Biocombust\\u00edveis/PRIO3\",\"Sa\\u00fade/Servi\\u00e7os M\\u00e9dicos - Hospitalares, An\\u00e1lises e Diagn\\u00f3sticos/QUAL3\",\"Sa\\u00fade/Com\\u00e9rcio e Distribui\\u00e7\\u00e3o/RADL3\",\"Bens Industriais/Transporte/RAIL3\",\"Sa\\u00fade/Servi\\u00e7os M\\u00e9dicos - Hospitalares, An\\u00e1lises e Diagn\\u00f3sticos/RDOR3\",\"Diversos/Diversos/RENT3\",\"Petr\\u00f3leo/Petr\\u00f3leo, G\\u00e1s e Biocombust\\u00edveis/RRRP3\",\"Financeiro/Intermedi\\u00e1rios Financeiro/SANB11\",\"Utilidade P\\u00fablica/\\u00c1gua Saneamento/SBSP3\",\"Cons N Ciclico/Agropecu\\u00e1ria/SLCE3\",\"Consumo C\\u00edclico/Com\\u00e9rcio/SOMA3\",\"Financeiro/Previd\\u00eancia e Seguros/SULA11\",\"Materiais B\\u00e1sicos/Madeira e Papel/SUZB3\",\"Utilidade P\\u00fablica/Energia El\\u00e9trica/TAEE11\",\"Comunica\\u00e7\\u00e3o/Telecomunica\\u00e7\\u00e3o/TIMS3\",\"Tecnologia da Informa\\u00e7\\u00e3o/Programas e Servi\\u00e7os/TOTS3\",\"Petr\\u00f3leo/Petr\\u00f3leo, G\\u00e1s e Biocombust\\u00edveis/UGPA3\",\"Materiais B\\u00e1sicos/Siderurgia e Metalurgia/USIM5\",\"Materiais B\\u00e1sicos/Minera\\u00e7\\u00e3o/VALE3\",\"Petr\\u00f3leo/Petr\\u00f3leo, G\\u00e1s e Biocombust\\u00edveis/VBBR3\",\"Consumo C\\u00edclico/Com\\u00e9rcio/VIIA3\",\"Comunica\\u00e7\\u00e3o/Telecomunica\\u00e7\\u00e3o/VIVT3\",\"Bens Industriais/M\\u00e1quinas e Equipamentos/WEGE3\",\"Diversos/Diversos/YDUQ3\",\"Cons N Ciclico/Agropecu\\u00e1ria\",\"Consumo N\\u00e3o-C\\u00edclico/Alimentos Processados\",\"Consumo N\\u00e3o-C\\u00edclico/Bebidas\",\"Comput e Equip/Computadores e Equipamentos\",\"Consumo C\\u00edclico/Com\\u00e9rcio\",\"Consumo N\\u00e3o-C\\u00edclico/Com\\u00e9rcio e Distribui\\u00e7\\u00e3o\",\"Sa\\u00fade/Com\\u00e9rcio e Distribui\\u00e7\\u00e3o\",\"Consumo C\\u00edclico/Constru\\u00e7\\u00e3o Civil\",\"Diversos/Diversos\",\"Utilidade P\\u00fablica/Energia El\\u00e9trica\",\"Financeiro/Explora\\u00e7\\u00e3o de Im\\u00f3veis\",\"Financeiro/Intermedi\\u00e1rios Financeiro\",\"Materiais B\\u00e1sicos/Madeira e Papel\",\"Bens Industriais/Material de Transporte\",\"Materiais B\\u00e1sicos/Minera\\u00e7\\u00e3o\",\"Bens Industriais/M\\u00e1quinas e Equipamentos\",\"Petr\\u00f3leo/Petr\\u00f3leo, G\\u00e1s e Biocombust\\u00edveis\",\"Financeiro/Previd\\u00eancia e Seguros\",\"Consumo N\\u00e3o-C\\u00edclico/Produtos Limpeza\",\"Tecnologia da Informa\\u00e7\\u00e3o/Programas e Servi\\u00e7os\",\"Materiais B\\u00e1sicos/Qu\\u00edmicos\",\"Financeiro/Servi\\u00e7os Financeiros Diversos\",\"Sa\\u00fade/Servi\\u00e7os M\\u00e9dicos - Hospitalares, An\\u00e1lises e Diagn\\u00f3sticos\",\"Materiais B\\u00e1sicos/Siderurgia e Metalurgia\",\"Consumo C\\u00edclico/Tecido, Vestu\\u00e1rio e Cal\\u00e7ados\",\"Comunica\\u00e7\\u00e3o/Telecomunica\\u00e7\\u00e3o\",\"Bens Industriais/Transporte\",\"Consumo C\\u00edclico/Viagens e Lazer\",\"Utilidade P\\u00fablica/\\u00c1gua Saneamento\",\"Bens Industriais\",\"Comput e Equip\",\"Comunica\\u00e7\\u00e3o\",\"Cons N Ciclico\",\"Consumo C\\u00edclico\",\"Consumo N\\u00e3o-C\\u00edclico\",\"Diversos\",\"Financeiro\",\"Materiais B\\u00e1sicos\",\"Petr\\u00f3leo\",\"Sa\\u00fade\",\"Tecnologia da Informa\\u00e7\\u00e3o\",\"Utilidade P\\u00fablica\"],\"labels\":[\"ABEV3\",\"ALPA4\",\"AMER3\",\"ASAI3\",\"AZUL4\",\"B3SA3\",\"BBAS3\",\"BBDC3\",\"BBDC4\",\"BBSE3\",\"BEEF3\",\"BIDI11\",\"BPAC11\",\"BPAN4\",\"BRAP4\",\"BRFS3\",\"BRKM5\",\"BRML3\",\"CASH3\",\"CCRO3\",\"CIEL3\",\"CMIG4\",\"CMIN3\",\"COGN3\",\"CPFE3\",\"CPLE6\",\"CRFB3\",\"CSAN3\",\"CSNA3\",\"CVCB3\",\"CYRE3\",\"DXCO3\",\"ECOR3\",\"EGIE3\",\"ELET3\",\"ELET6\",\"EMBR3\",\"ENBR3\",\"ENEV3\",\"ENGI11\",\"EQTL3\",\"EZTC3\",\"FLRY3\",\"GGBR4\",\"GOAU4\",\"GOLL4\",\"HAPV3\",\"HYPE3\",\"IGTI11\",\"IRBR3\",\"ITSA4\",\"ITUB4\",\"JBSS3\",\"JHSF3\",\"KLBN11\",\"LCAM3\",\"LREN3\",\"LWSA3\",\"MGLU3\",\"MRFG3\",\"MRVE3\",\"MULT3\",\"NTCO3\",\"PCAR3\",\"PETR3\",\"PETR4\",\"PETZ3\",\"POSI3\",\"PRIO3\",\"QUAL3\",\"RADL3\",\"RAIL3\",\"RDOR3\",\"RENT3\",\"RRRP3\",\"SANB11\",\"SBSP3\",\"SLCE3\",\"SOMA3\",\"SULA11\",\"SUZB3\",\"TAEE11\",\"TIMS3\",\"TOTS3\",\"UGPA3\",\"USIM5\",\"VALE3\",\"VBBR3\",\"VIIA3\",\"VIVT3\",\"WEGE3\",\"YDUQ3\",\"Agropecu\\u00e1ria\",\"Alimentos Processados\",\"Bebidas\",\"Computadores e Equipamentos\",\"Com\\u00e9rcio\",\"Com\\u00e9rcio e Distribui\\u00e7\\u00e3o\",\"Com\\u00e9rcio e Distribui\\u00e7\\u00e3o\",\"Constru\\u00e7\\u00e3o Civil\",\"Diversos\",\"Energia El\\u00e9trica\",\"Explora\\u00e7\\u00e3o de Im\\u00f3veis\",\"Intermedi\\u00e1rios Financeiro\",\"Madeira e Papel\",\"Material de Transporte\",\"Minera\\u00e7\\u00e3o\",\"M\\u00e1quinas e Equipamentos\",\"Petr\\u00f3leo, G\\u00e1s e Biocombust\\u00edveis\",\"Previd\\u00eancia e Seguros\",\"Produtos Limpeza\",\"Programas e Servi\\u00e7os\",\"Qu\\u00edmicos\",\"Servi\\u00e7os Financeiros Diversos\",\"Servi\\u00e7os M\\u00e9dicos - Hospitalares, An\\u00e1lises e Diagn\\u00f3sticos\",\"Siderurgia e Metalurgia\",\"Tecido, Vestu\\u00e1rio e Cal\\u00e7ados\",\"Telecomunica\\u00e7\\u00e3o\",\"Transporte\",\"Viagens e Lazer\",\"\\u00c1gua Saneamento\",\"Bens Industriais\",\"Comput e Equip\",\"Comunica\\u00e7\\u00e3o\",\"Cons N Ciclico\",\"Consumo C\\u00edclico\",\"Consumo N\\u00e3o-C\\u00edclico\",\"Diversos\",\"Financeiro\",\"Materiais B\\u00e1sicos\",\"Petr\\u00f3leo\",\"Sa\\u00fade\",\"Tecnologia da Informa\\u00e7\\u00e3o\",\"Utilidade P\\u00fablica\"],\"name\":\"\",\"parents\":[\"Consumo N\\u00e3o-C\\u00edclico/Bebidas\",\"Consumo C\\u00edclico/Tecido, Vestu\\u00e1rio e Cal\\u00e7ados\",\"Consumo C\\u00edclico/Com\\u00e9rcio\",\"Consumo N\\u00e3o-C\\u00edclico/Com\\u00e9rcio e Distribui\\u00e7\\u00e3o\",\"Bens Industriais/Transporte\",\"Financeiro/Servi\\u00e7os Financeiros Diversos\",\"Financeiro/Intermedi\\u00e1rios Financeiro\",\"Financeiro/Intermedi\\u00e1rios Financeiro\",\"Financeiro/Intermedi\\u00e1rios Financeiro\",\"Financeiro/Previd\\u00eancia e Seguros\",\"Consumo N\\u00e3o-C\\u00edclico/Alimentos Processados\",\"Financeiro/Intermedi\\u00e1rios Financeiro\",\"Financeiro/Intermedi\\u00e1rios Financeiro\",\"Financeiro/Intermedi\\u00e1rios Financeiro\",\"Materiais B\\u00e1sicos/Minera\\u00e7\\u00e3o\",\"Consumo N\\u00e3o-C\\u00edclico/Alimentos Processados\",\"Materiais B\\u00e1sicos/Qu\\u00edmicos\",\"Financeiro/Explora\\u00e7\\u00e3o de Im\\u00f3veis\",\"Tecnologia da Informa\\u00e7\\u00e3o/Programas e Servi\\u00e7os\",\"Bens Industriais/Transporte\",\"Financeiro/Servi\\u00e7os Financeiros Diversos\",\"Utilidade P\\u00fablica/Energia El\\u00e9trica\",\"Materiais B\\u00e1sicos/Minera\\u00e7\\u00e3o\",\"Diversos/Diversos\",\"Utilidade P\\u00fablica/Energia El\\u00e9trica\",\"Utilidade P\\u00fablica/Energia El\\u00e9trica\",\"Consumo N\\u00e3o-C\\u00edclico/Com\\u00e9rcio e Distribui\\u00e7\\u00e3o\",\"Petr\\u00f3leo/Petr\\u00f3leo, G\\u00e1s e Biocombust\\u00edveis\",\"Materiais B\\u00e1sicos/Siderurgia e Metalurgia\",\"Consumo C\\u00edclico/Viagens e Lazer\",\"Consumo C\\u00edclico/Constru\\u00e7\\u00e3o Civil\",\"Materiais B\\u00e1sicos/Madeira e Papel\",\"Bens Industriais/Transporte\",\"Utilidade P\\u00fablica/Energia El\\u00e9trica\",\"Utilidade P\\u00fablica/Energia El\\u00e9trica\",\"Utilidade P\\u00fablica/Energia El\\u00e9trica\",\"Bens Industriais/Material de Transporte\",\"Utilidade P\\u00fablica/Energia El\\u00e9trica\",\"Utilidade P\\u00fablica/Energia El\\u00e9trica\",\"Utilidade P\\u00fablica/Energia El\\u00e9trica\",\"Utilidade P\\u00fablica/Energia El\\u00e9trica\",\"Consumo C\\u00edclico/Constru\\u00e7\\u00e3o Civil\",\"Sa\\u00fade/Servi\\u00e7os M\\u00e9dicos - Hospitalares, An\\u00e1lises e Diagn\\u00f3sticos\",\"Materiais B\\u00e1sicos/Siderurgia e Metalurgia\",\"Materiais B\\u00e1sicos/Siderurgia e Metalurgia\",\"Bens Industriais/Transporte\",\"Sa\\u00fade/Servi\\u00e7os M\\u00e9dicos - Hospitalares, An\\u00e1lises e Diagn\\u00f3sticos\",\"Sa\\u00fade/Com\\u00e9rcio e Distribui\\u00e7\\u00e3o\",\"Financeiro/Explora\\u00e7\\u00e3o de Im\\u00f3veis\",\"Financeiro/Previd\\u00eancia e Seguros\",\"Financeiro/Intermedi\\u00e1rios Financeiro\",\"Financeiro/Intermedi\\u00e1rios Financeiro\",\"Consumo N\\u00e3o-C\\u00edclico/Alimentos Processados\",\"Consumo C\\u00edclico/Constru\\u00e7\\u00e3o Civil\",\"Materiais B\\u00e1sicos/Madeira e Papel\",\"Diversos/Diversos\",\"Consumo C\\u00edclico/Com\\u00e9rcio\",\"Tecnologia da Informa\\u00e7\\u00e3o/Programas e Servi\\u00e7os\",\"Consumo C\\u00edclico/Com\\u00e9rcio\",\"Consumo N\\u00e3o-C\\u00edclico/Alimentos Processados\",\"Consumo C\\u00edclico/Constru\\u00e7\\u00e3o Civil\",\"Financeiro/Explora\\u00e7\\u00e3o de Im\\u00f3veis\",\"Consumo N\\u00e3o-C\\u00edclico/Produtos Limpeza\",\"Consumo N\\u00e3o-C\\u00edclico/Com\\u00e9rcio e Distribui\\u00e7\\u00e3o\",\"Petr\\u00f3leo/Petr\\u00f3leo, G\\u00e1s e Biocombust\\u00edveis\",\"Petr\\u00f3leo/Petr\\u00f3leo, G\\u00e1s e Biocombust\\u00edveis\",\"Consumo C\\u00edclico/Com\\u00e9rcio\",\"Comput e Equip/Computadores e Equipamentos\",\"Petr\\u00f3leo/Petr\\u00f3leo, G\\u00e1s e Biocombust\\u00edveis\",\"Sa\\u00fade/Servi\\u00e7os M\\u00e9dicos - Hospitalares, An\\u00e1lises e Diagn\\u00f3sticos\",\"Sa\\u00fade/Com\\u00e9rcio e Distribui\\u00e7\\u00e3o\",\"Bens Industriais/Transporte\",\"Sa\\u00fade/Servi\\u00e7os M\\u00e9dicos - Hospitalares, An\\u00e1lises e Diagn\\u00f3sticos\",\"Diversos/Diversos\",\"Petr\\u00f3leo/Petr\\u00f3leo, G\\u00e1s e Biocombust\\u00edveis\",\"Financeiro/Intermedi\\u00e1rios Financeiro\",\"Utilidade P\\u00fablica/\\u00c1gua Saneamento\",\"Cons N Ciclico/Agropecu\\u00e1ria\",\"Consumo C\\u00edclico/Com\\u00e9rcio\",\"Financeiro/Previd\\u00eancia e Seguros\",\"Materiais B\\u00e1sicos/Madeira e Papel\",\"Utilidade P\\u00fablica/Energia El\\u00e9trica\",\"Comunica\\u00e7\\u00e3o/Telecomunica\\u00e7\\u00e3o\",\"Tecnologia da Informa\\u00e7\\u00e3o/Programas e Servi\\u00e7os\",\"Petr\\u00f3leo/Petr\\u00f3leo, G\\u00e1s e Biocombust\\u00edveis\",\"Materiais B\\u00e1sicos/Siderurgia e Metalurgia\",\"Materiais B\\u00e1sicos/Minera\\u00e7\\u00e3o\",\"Petr\\u00f3leo/Petr\\u00f3leo, G\\u00e1s e Biocombust\\u00edveis\",\"Consumo C\\u00edclico/Com\\u00e9rcio\",\"Comunica\\u00e7\\u00e3o/Telecomunica\\u00e7\\u00e3o\",\"Bens Industriais/M\\u00e1quinas e Equipamentos\",\"Diversos/Diversos\",\"Cons N Ciclico\",\"Consumo N\\u00e3o-C\\u00edclico\",\"Consumo N\\u00e3o-C\\u00edclico\",\"Comput e Equip\",\"Consumo C\\u00edclico\",\"Consumo N\\u00e3o-C\\u00edclico\",\"Sa\\u00fade\",\"Consumo C\\u00edclico\",\"Diversos\",\"Utilidade P\\u00fablica\",\"Financeiro\",\"Financeiro\",\"Materiais B\\u00e1sicos\",\"Bens Industriais\",\"Materiais B\\u00e1sicos\",\"Bens Industriais\",\"Petr\\u00f3leo\",\"Financeiro\",\"Consumo N\\u00e3o-C\\u00edclico\",\"Tecnologia da Informa\\u00e7\\u00e3o\",\"Materiais B\\u00e1sicos\",\"Financeiro\",\"Sa\\u00fade\",\"Materiais B\\u00e1sicos\",\"Consumo C\\u00edclico\",\"Comunica\\u00e7\\u00e3o\",\"Bens Industriais\",\"Consumo C\\u00edclico\",\"Utilidade P\\u00fablica\",\"\",\"\",\"\",\"\",\"\",\"\",\"\",\"\",\"\",\"\",\"\",\"\",\"\"],\"values\":[3.07,0.2,0.468,0.616,0.26,3.601,2.532,1.245,5.086,0.852,0.187,0.307,1.506,0.12,0.374,0.833,0.603,0.344,0.044,0.751,0.223,0.815,0.302,0.237,0.309,0.56,0.378,1.192,0.65,0.108,0.177,0.161,0.118,0.539,0.757,0.498,0.457,0.243,0.932,0.544,1.371,0.079,0.237,1.554,0.425,0.1,1.381,0.823,0.17,0.179,2.172,5.943,2.315,0.104,0.896,0.384,1.214,0.136,0.433,0.274,0.128,0.318,0.674,0.159,4.594,6.983,0.193,0.028,1.173,0.174,1.149,1.095,1.322,1.588,0.461,0.582,0.755,0.262,0.253,0.363,1.938,0.455,0.533,0.703,0.715,0.268,16.437,1.016,0.233,0.999,1.838,0.222,0.262,3.609,3.07,0.028,2.794,1.153,1.972,0.488,2.431,7.023,0.832,19.493000000000002,2.995,0.457,17.113,1.838,16.134,1.394,0.674,0.883,0.603,3.824,3.114,2.8970000000000002,0.2,1.532,2.324,0.108,0.755,4.619,0.028,1.532,0.262,3.59,8.506,2.431,25.543,23.608,16.134,5.086,0.883,7.778],\"type\":\"sunburst\",\"textfont\":{\"color\":\"white\",\"size\":14}}],                        {\"template\":{\"data\":{\"histogram2dcontour\":[{\"type\":\"histogram2dcontour\",\"colorbar\":{\"outlinewidth\":0,\"ticks\":\"\"},\"colorscale\":[[0.0,\"#0d0887\"],[0.1111111111111111,\"#46039f\"],[0.2222222222222222,\"#7201a8\"],[0.3333333333333333,\"#9c179e\"],[0.4444444444444444,\"#bd3786\"],[0.5555555555555556,\"#d8576b\"],[0.6666666666666666,\"#ed7953\"],[0.7777777777777778,\"#fb9f3a\"],[0.8888888888888888,\"#fdca26\"],[1.0,\"#f0f921\"]]}],\"choropleth\":[{\"type\":\"choropleth\",\"colorbar\":{\"outlinewidth\":0,\"ticks\":\"\"}}],\"histogram2d\":[{\"type\":\"histogram2d\",\"colorbar\":{\"outlinewidth\":0,\"ticks\":\"\"},\"colorscale\":[[0.0,\"#0d0887\"],[0.1111111111111111,\"#46039f\"],[0.2222222222222222,\"#7201a8\"],[0.3333333333333333,\"#9c179e\"],[0.4444444444444444,\"#bd3786\"],[0.5555555555555556,\"#d8576b\"],[0.6666666666666666,\"#ed7953\"],[0.7777777777777778,\"#fb9f3a\"],[0.8888888888888888,\"#fdca26\"],[1.0,\"#f0f921\"]]}],\"heatmap\":[{\"type\":\"heatmap\",\"colorbar\":{\"outlinewidth\":0,\"ticks\":\"\"},\"colorscale\":[[0.0,\"#0d0887\"],[0.1111111111111111,\"#46039f\"],[0.2222222222222222,\"#7201a8\"],[0.3333333333333333,\"#9c179e\"],[0.4444444444444444,\"#bd3786\"],[0.5555555555555556,\"#d8576b\"],[0.6666666666666666,\"#ed7953\"],[0.7777777777777778,\"#fb9f3a\"],[0.8888888888888888,\"#fdca26\"],[1.0,\"#f0f921\"]]}],\"heatmapgl\":[{\"type\":\"heatmapgl\",\"colorbar\":{\"outlinewidth\":0,\"ticks\":\"\"},\"colorscale\":[[0.0,\"#0d0887\"],[0.1111111111111111,\"#46039f\"],[0.2222222222222222,\"#7201a8\"],[0.3333333333333333,\"#9c179e\"],[0.4444444444444444,\"#bd3786\"],[0.5555555555555556,\"#d8576b\"],[0.6666666666666666,\"#ed7953\"],[0.7777777777777778,\"#fb9f3a\"],[0.8888888888888888,\"#fdca26\"],[1.0,\"#f0f921\"]]}],\"contourcarpet\":[{\"type\":\"contourcarpet\",\"colorbar\":{\"outlinewidth\":0,\"ticks\":\"\"}}],\"contour\":[{\"type\":\"contour\",\"colorbar\":{\"outlinewidth\":0,\"ticks\":\"\"},\"colorscale\":[[0.0,\"#0d0887\"],[0.1111111111111111,\"#46039f\"],[0.2222222222222222,\"#7201a8\"],[0.3333333333333333,\"#9c179e\"],[0.4444444444444444,\"#bd3786\"],[0.5555555555555556,\"#d8576b\"],[0.6666666666666666,\"#ed7953\"],[0.7777777777777778,\"#fb9f3a\"],[0.8888888888888888,\"#fdca26\"],[1.0,\"#f0f921\"]]}],\"surface\":[{\"type\":\"surface\",\"colorbar\":{\"outlinewidth\":0,\"ticks\":\"\"},\"colorscale\":[[0.0,\"#0d0887\"],[0.1111111111111111,\"#46039f\"],[0.2222222222222222,\"#7201a8\"],[0.3333333333333333,\"#9c179e\"],[0.4444444444444444,\"#bd3786\"],[0.5555555555555556,\"#d8576b\"],[0.6666666666666666,\"#ed7953\"],[0.7777777777777778,\"#fb9f3a\"],[0.8888888888888888,\"#fdca26\"],[1.0,\"#f0f921\"]]}],\"mesh3d\":[{\"type\":\"mesh3d\",\"colorbar\":{\"outlinewidth\":0,\"ticks\":\"\"}}],\"scatter\":[{\"fillpattern\":{\"fillmode\":\"overlay\",\"size\":10,\"solidity\":0.2},\"type\":\"scatter\"}],\"parcoords\":[{\"type\":\"parcoords\",\"line\":{\"colorbar\":{\"outlinewidth\":0,\"ticks\":\"\"}}}],\"scatterpolargl\":[{\"type\":\"scatterpolargl\",\"marker\":{\"colorbar\":{\"outlinewidth\":0,\"ticks\":\"\"}}}],\"bar\":[{\"error_x\":{\"color\":\"#2a3f5f\"},\"error_y\":{\"color\":\"#2a3f5f\"},\"marker\":{\"line\":{\"color\":\"#E5ECF6\",\"width\":0.5},\"pattern\":{\"fillmode\":\"overlay\",\"size\":10,\"solidity\":0.2}},\"type\":\"bar\"}],\"scattergeo\":[{\"type\":\"scattergeo\",\"marker\":{\"colorbar\":{\"outlinewidth\":0,\"ticks\":\"\"}}}],\"scatterpolar\":[{\"type\":\"scatterpolar\",\"marker\":{\"colorbar\":{\"outlinewidth\":0,\"ticks\":\"\"}}}],\"histogram\":[{\"marker\":{\"pattern\":{\"fillmode\":\"overlay\",\"size\":10,\"solidity\":0.2}},\"type\":\"histogram\"}],\"scattergl\":[{\"type\":\"scattergl\",\"marker\":{\"colorbar\":{\"outlinewidth\":0,\"ticks\":\"\"}}}],\"scatter3d\":[{\"type\":\"scatter3d\",\"line\":{\"colorbar\":{\"outlinewidth\":0,\"ticks\":\"\"}},\"marker\":{\"colorbar\":{\"outlinewidth\":0,\"ticks\":\"\"}}}],\"scattermapbox\":[{\"type\":\"scattermapbox\",\"marker\":{\"colorbar\":{\"outlinewidth\":0,\"ticks\":\"\"}}}],\"scatterternary\":[{\"type\":\"scatterternary\",\"marker\":{\"colorbar\":{\"outlinewidth\":0,\"ticks\":\"\"}}}],\"scattercarpet\":[{\"type\":\"scattercarpet\",\"marker\":{\"colorbar\":{\"outlinewidth\":0,\"ticks\":\"\"}}}],\"carpet\":[{\"aaxis\":{\"endlinecolor\":\"#2a3f5f\",\"gridcolor\":\"white\",\"linecolor\":\"white\",\"minorgridcolor\":\"white\",\"startlinecolor\":\"#2a3f5f\"},\"baxis\":{\"endlinecolor\":\"#2a3f5f\",\"gridcolor\":\"white\",\"linecolor\":\"white\",\"minorgridcolor\":\"white\",\"startlinecolor\":\"#2a3f5f\"},\"type\":\"carpet\"}],\"table\":[{\"cells\":{\"fill\":{\"color\":\"#EBF0F8\"},\"line\":{\"color\":\"white\"}},\"header\":{\"fill\":{\"color\":\"#C8D4E3\"},\"line\":{\"color\":\"white\"}},\"type\":\"table\"}],\"barpolar\":[{\"marker\":{\"line\":{\"color\":\"#E5ECF6\",\"width\":0.5},\"pattern\":{\"fillmode\":\"overlay\",\"size\":10,\"solidity\":0.2}},\"type\":\"barpolar\"}],\"pie\":[{\"automargin\":true,\"type\":\"pie\"}]},\"layout\":{\"autotypenumbers\":\"strict\",\"colorway\":[\"#636efa\",\"#EF553B\",\"#00cc96\",\"#ab63fa\",\"#FFA15A\",\"#19d3f3\",\"#FF6692\",\"#B6E880\",\"#FF97FF\",\"#FECB52\"],\"font\":{\"color\":\"#2a3f5f\"},\"hovermode\":\"closest\",\"hoverlabel\":{\"align\":\"left\"},\"paper_bgcolor\":\"white\",\"plot_bgcolor\":\"#E5ECF6\",\"polar\":{\"bgcolor\":\"#E5ECF6\",\"angularaxis\":{\"gridcolor\":\"white\",\"linecolor\":\"white\",\"ticks\":\"\"},\"radialaxis\":{\"gridcolor\":\"white\",\"linecolor\":\"white\",\"ticks\":\"\"}},\"ternary\":{\"bgcolor\":\"#E5ECF6\",\"aaxis\":{\"gridcolor\":\"white\",\"linecolor\":\"white\",\"ticks\":\"\"},\"baxis\":{\"gridcolor\":\"white\",\"linecolor\":\"white\",\"ticks\":\"\"},\"caxis\":{\"gridcolor\":\"white\",\"linecolor\":\"white\",\"ticks\":\"\"}},\"coloraxis\":{\"colorbar\":{\"outlinewidth\":0,\"ticks\":\"\"}},\"colorscale\":{\"sequential\":[[0.0,\"#0d0887\"],[0.1111111111111111,\"#46039f\"],[0.2222222222222222,\"#7201a8\"],[0.3333333333333333,\"#9c179e\"],[0.4444444444444444,\"#bd3786\"],[0.5555555555555556,\"#d8576b\"],[0.6666666666666666,\"#ed7953\"],[0.7777777777777778,\"#fb9f3a\"],[0.8888888888888888,\"#fdca26\"],[1.0,\"#f0f921\"]],\"sequentialminus\":[[0.0,\"#0d0887\"],[0.1111111111111111,\"#46039f\"],[0.2222222222222222,\"#7201a8\"],[0.3333333333333333,\"#9c179e\"],[0.4444444444444444,\"#bd3786\"],[0.5555555555555556,\"#d8576b\"],[0.6666666666666666,\"#ed7953\"],[0.7777777777777778,\"#fb9f3a\"],[0.8888888888888888,\"#fdca26\"],[1.0,\"#f0f921\"]],\"diverging\":[[0,\"#8e0152\"],[0.1,\"#c51b7d\"],[0.2,\"#de77ae\"],[0.3,\"#f1b6da\"],[0.4,\"#fde0ef\"],[0.5,\"#f7f7f7\"],[0.6,\"#e6f5d0\"],[0.7,\"#b8e186\"],[0.8,\"#7fbc41\"],[0.9,\"#4d9221\"],[1,\"#276419\"]]},\"xaxis\":{\"gridcolor\":\"white\",\"linecolor\":\"white\",\"ticks\":\"\",\"title\":{\"standoff\":15},\"zerolinecolor\":\"white\",\"automargin\":true,\"zerolinewidth\":2},\"yaxis\":{\"gridcolor\":\"white\",\"linecolor\":\"white\",\"ticks\":\"\",\"title\":{\"standoff\":15},\"zerolinecolor\":\"white\",\"automargin\":true,\"zerolinewidth\":2},\"scene\":{\"xaxis\":{\"backgroundcolor\":\"#E5ECF6\",\"gridcolor\":\"white\",\"linecolor\":\"white\",\"showbackground\":true,\"ticks\":\"\",\"zerolinecolor\":\"white\",\"gridwidth\":2},\"yaxis\":{\"backgroundcolor\":\"#E5ECF6\",\"gridcolor\":\"white\",\"linecolor\":\"white\",\"showbackground\":true,\"ticks\":\"\",\"zerolinecolor\":\"white\",\"gridwidth\":2},\"zaxis\":{\"backgroundcolor\":\"#E5ECF6\",\"gridcolor\":\"white\",\"linecolor\":\"white\",\"showbackground\":true,\"ticks\":\"\",\"zerolinecolor\":\"white\",\"gridwidth\":2}},\"shapedefaults\":{\"line\":{\"color\":\"#2a3f5f\"}},\"annotationdefaults\":{\"arrowcolor\":\"#2a3f5f\",\"arrowhead\":0,\"arrowwidth\":1},\"geo\":{\"bgcolor\":\"white\",\"landcolor\":\"#E5ECF6\",\"subunitcolor\":\"white\",\"showland\":true,\"showlakes\":true,\"lakecolor\":\"white\"},\"title\":{\"x\":0.05},\"mapbox\":{\"style\":\"light\"}}},\"legend\":{\"tracegroupgap\":0},\"margin\":{\"t\":60},\"height\":800,\"width\":800},                        {\"responsive\": true}                    ).then(function(){\n",
              "                            \n",
              "var gd = document.getElementById('c57d716e-7a86-4df2-ab90-e4f3b05c1cae');\n",
              "var x = new MutationObserver(function (mutations, observer) {{\n",
              "        var display = window.getComputedStyle(gd).display;\n",
              "        if (!display || display === 'none') {{\n",
              "            console.log([gd, 'removed!']);\n",
              "            Plotly.purge(gd);\n",
              "            observer.disconnect();\n",
              "        }}\n",
              "}});\n",
              "\n",
              "// Listen for the removal of the full notebook cells\n",
              "var notebookContainer = gd.closest('#notebook-container');\n",
              "if (notebookContainer) {{\n",
              "    x.observe(notebookContainer, {childList: true});\n",
              "}}\n",
              "\n",
              "// Listen for the clearing of the current output cell\n",
              "var outputEl = gd.closest('.output');\n",
              "if (outputEl) {{\n",
              "    x.observe(outputEl, {childList: true});\n",
              "}}\n",
              "\n",
              "                        })                };                            </script>        </div>\n",
              "</body>\n",
              "</html>"
            ]
          },
          "metadata": {}
        }
      ],
      "source": [
        "#UTILIZAR O ÍNDICE DESEJADO\n",
        "base=ibov\n",
        "\n",
        "#GRÁFICO DE PIZZA ITERATIVO\n",
        "\n",
        "print(f'Data de referência:{periodo}')\n",
        "\n",
        "fig1=pl.sunburst(data_frame=base,path=['Setor','SubSetor','Código'], values='Part. (%)', height=800, width=800)\n",
        "fig1.update_traces(textfont_color='white',\n",
        "                  textfont_size=14,\n",
        "                  hovertemplate='<b>%{label}:</b> %{value:.2f}%')"
      ]
    },
    {
      "cell_type": "code",
      "execution_count": 25,
      "metadata": {
        "colab": {
          "base_uri": "https://localhost:8080/",
          "height": 817
        },
        "id": "HqEUZZnYIJOG",
        "outputId": "e5c8eee8-da90-45e7-e18d-9eef8e7c4bca"
      },
      "outputs": [
        {
          "output_type": "display_data",
          "data": {
            "text/html": [
              "<html>\n",
              "<head><meta charset=\"utf-8\" /></head>\n",
              "<body>\n",
              "    <div>            <script src=\"https://cdnjs.cloudflare.com/ajax/libs/mathjax/2.7.5/MathJax.js?config=TeX-AMS-MML_SVG\"></script><script type=\"text/javascript\">if (window.MathJax && window.MathJax.Hub && window.MathJax.Hub.Config) {window.MathJax.Hub.Config({SVG: {font: \"STIX-Web\"}});}</script>                <script type=\"text/javascript\">window.PlotlyConfig = {MathJaxConfig: 'local'};</script>\n",
              "        <script src=\"https://cdn.plot.ly/plotly-2.12.1.min.js\"></script>                <div id=\"176e530d-252b-45a3-bb18-5ea7321a8074\" class=\"plotly-graph-div\" style=\"height:800px; width:800px;\"></div>            <script type=\"text/javascript\">                                    window.PLOTLYENV=window.PLOTLYENV || {};                                    if (document.getElementById(\"176e530d-252b-45a3-bb18-5ea7321a8074\")) {                    Plotly.newPlot(                        \"176e530d-252b-45a3-bb18-5ea7321a8074\",                        [{\"branchvalues\":\"total\",\"domain\":{\"x\":[0.0,1.0],\"y\":[0.0,1.0]},\"hovertemplate\":\"<b>%{label}:</b> %{value:.2f}%\",\"ids\":[\"Consumo N\\u00e3o-C\\u00edclico/Bebidas/ABEV3\",\"Consumo C\\u00edclico/Tecido, Vestu\\u00e1rio e Cal\\u00e7ados/ALPA4\",\"Consumo C\\u00edclico/Com\\u00e9rcio/AMER3\",\"Consumo N\\u00e3o-C\\u00edclico/Com\\u00e9rcio e Distribui\\u00e7\\u00e3o/ASAI3\",\"Bens Industriais/Transporte/AZUL4\",\"Financeiro/Servi\\u00e7os Financeiros Diversos/B3SA3\",\"Financeiro/Intermedi\\u00e1rios Financeiro/BBAS3\",\"Financeiro/Intermedi\\u00e1rios Financeiro/BBDC3\",\"Financeiro/Intermedi\\u00e1rios Financeiro/BBDC4\",\"Financeiro/Previd\\u00eancia e Seguros/BBSE3\",\"Consumo N\\u00e3o-C\\u00edclico/Alimentos Processados/BEEF3\",\"Financeiro/Intermedi\\u00e1rios Financeiro/BIDI11\",\"Financeiro/Intermedi\\u00e1rios Financeiro/BPAC11\",\"Financeiro/Intermedi\\u00e1rios Financeiro/BPAN4\",\"Materiais B\\u00e1sicos/Minera\\u00e7\\u00e3o/BRAP4\",\"Consumo N\\u00e3o-C\\u00edclico/Alimentos Processados/BRFS3\",\"Materiais B\\u00e1sicos/Qu\\u00edmicos/BRKM5\",\"Financeiro/Explora\\u00e7\\u00e3o de Im\\u00f3veis/BRML3\",\"Tecnologia da Informa\\u00e7\\u00e3o/Programas e Servi\\u00e7os/CASH3\",\"Bens Industriais/Transporte/CCRO3\",\"Financeiro/Servi\\u00e7os Financeiros Diversos/CIEL3\",\"Utilidade P\\u00fablica/Energia El\\u00e9trica/CMIG4\",\"Materiais B\\u00e1sicos/Minera\\u00e7\\u00e3o/CMIN3\",\"Diversos/Diversos/COGN3\",\"Utilidade P\\u00fablica/Energia El\\u00e9trica/CPFE3\",\"Utilidade P\\u00fablica/Energia El\\u00e9trica/CPLE6\",\"Consumo N\\u00e3o-C\\u00edclico/Com\\u00e9rcio e Distribui\\u00e7\\u00e3o/CRFB3\",\"Petr\\u00f3leo/Petr\\u00f3leo, G\\u00e1s e Biocombust\\u00edveis/CSAN3\",\"Materiais B\\u00e1sicos/Siderurgia e Metalurgia/CSNA3\",\"Consumo C\\u00edclico/Viagens e Lazer/CVCB3\",\"Consumo C\\u00edclico/Constru\\u00e7\\u00e3o Civil/CYRE3\",\"Materiais B\\u00e1sicos/Madeira e Papel/DXCO3\",\"Bens Industriais/Transporte/ECOR3\",\"Utilidade P\\u00fablica/Energia El\\u00e9trica/EGIE3\",\"Utilidade P\\u00fablica/Energia El\\u00e9trica/ELET3\",\"Utilidade P\\u00fablica/Energia El\\u00e9trica/ELET6\",\"Bens Industriais/Material de Transporte/EMBR3\",\"Utilidade P\\u00fablica/Energia El\\u00e9trica/ENBR3\",\"Utilidade P\\u00fablica/Energia El\\u00e9trica/ENEV3\",\"Utilidade P\\u00fablica/Energia El\\u00e9trica/ENGI11\",\"Utilidade P\\u00fablica/Energia El\\u00e9trica/EQTL3\",\"Consumo C\\u00edclico/Constru\\u00e7\\u00e3o Civil/EZTC3\",\"Sa\\u00fade/Servi\\u00e7os M\\u00e9dicos - Hospitalares, An\\u00e1lises e Diagn\\u00f3sticos/FLRY3\",\"Materiais B\\u00e1sicos/Siderurgia e Metalurgia/GGBR4\",\"Materiais B\\u00e1sicos/Siderurgia e Metalurgia/GOAU4\",\"Bens Industriais/Transporte/GOLL4\",\"Sa\\u00fade/Servi\\u00e7os M\\u00e9dicos - Hospitalares, An\\u00e1lises e Diagn\\u00f3sticos/HAPV3\",\"Sa\\u00fade/Com\\u00e9rcio e Distribui\\u00e7\\u00e3o/HYPE3\",\"Financeiro/Explora\\u00e7\\u00e3o de Im\\u00f3veis/IGTI11\",\"Financeiro/Previd\\u00eancia e Seguros/IRBR3\",\"Financeiro/Intermedi\\u00e1rios Financeiro/ITSA4\",\"Financeiro/Intermedi\\u00e1rios Financeiro/ITUB4\",\"Consumo N\\u00e3o-C\\u00edclico/Alimentos Processados/JBSS3\",\"Consumo C\\u00edclico/Constru\\u00e7\\u00e3o Civil/JHSF3\",\"Materiais B\\u00e1sicos/Madeira e Papel/KLBN11\",\"Diversos/Diversos/LCAM3\",\"Consumo C\\u00edclico/Com\\u00e9rcio/LREN3\",\"Tecnologia da Informa\\u00e7\\u00e3o/Programas e Servi\\u00e7os/LWSA3\",\"Consumo C\\u00edclico/Com\\u00e9rcio/MGLU3\",\"Consumo N\\u00e3o-C\\u00edclico/Alimentos Processados/MRFG3\",\"Consumo C\\u00edclico/Constru\\u00e7\\u00e3o Civil/MRVE3\",\"Financeiro/Explora\\u00e7\\u00e3o de Im\\u00f3veis/MULT3\",\"Consumo N\\u00e3o-C\\u00edclico/Produtos Limpeza/NTCO3\",\"Consumo N\\u00e3o-C\\u00edclico/Com\\u00e9rcio e Distribui\\u00e7\\u00e3o/PCAR3\",\"Petr\\u00f3leo/Petr\\u00f3leo, G\\u00e1s e Biocombust\\u00edveis/PETR3\",\"Petr\\u00f3leo/Petr\\u00f3leo, G\\u00e1s e Biocombust\\u00edveis/PETR4\",\"Consumo C\\u00edclico/Com\\u00e9rcio/PETZ3\",\"Comput e Equip/Computadores e Equipamentos/POSI3\",\"Petr\\u00f3leo/Petr\\u00f3leo, G\\u00e1s e Biocombust\\u00edveis/PRIO3\",\"Sa\\u00fade/Servi\\u00e7os M\\u00e9dicos - Hospitalares, An\\u00e1lises e Diagn\\u00f3sticos/QUAL3\",\"Sa\\u00fade/Com\\u00e9rcio e Distribui\\u00e7\\u00e3o/RADL3\",\"Bens Industriais/Transporte/RAIL3\",\"Sa\\u00fade/Servi\\u00e7os M\\u00e9dicos - Hospitalares, An\\u00e1lises e Diagn\\u00f3sticos/RDOR3\",\"Diversos/Diversos/RENT3\",\"Petr\\u00f3leo/Petr\\u00f3leo, G\\u00e1s e Biocombust\\u00edveis/RRRP3\",\"Financeiro/Intermedi\\u00e1rios Financeiro/SANB11\",\"Utilidade P\\u00fablica/\\u00c1gua Saneamento/SBSP3\",\"Cons N Ciclico/Agropecu\\u00e1ria/SLCE3\",\"Consumo C\\u00edclico/Com\\u00e9rcio/SOMA3\",\"Financeiro/Previd\\u00eancia e Seguros/SULA11\",\"Materiais B\\u00e1sicos/Madeira e Papel/SUZB3\",\"Utilidade P\\u00fablica/Energia El\\u00e9trica/TAEE11\",\"Comunica\\u00e7\\u00e3o/Telecomunica\\u00e7\\u00e3o/TIMS3\",\"Tecnologia da Informa\\u00e7\\u00e3o/Programas e Servi\\u00e7os/TOTS3\",\"Petr\\u00f3leo/Petr\\u00f3leo, G\\u00e1s e Biocombust\\u00edveis/UGPA3\",\"Materiais B\\u00e1sicos/Siderurgia e Metalurgia/USIM5\",\"Materiais B\\u00e1sicos/Minera\\u00e7\\u00e3o/VALE3\",\"Petr\\u00f3leo/Petr\\u00f3leo, G\\u00e1s e Biocombust\\u00edveis/VBBR3\",\"Consumo C\\u00edclico/Com\\u00e9rcio/VIIA3\",\"Comunica\\u00e7\\u00e3o/Telecomunica\\u00e7\\u00e3o/VIVT3\",\"Bens Industriais/M\\u00e1quinas e Equipamentos/WEGE3\",\"Diversos/Diversos/YDUQ3\",\"Cons N Ciclico/Agropecu\\u00e1ria\",\"Consumo N\\u00e3o-C\\u00edclico/Alimentos Processados\",\"Consumo N\\u00e3o-C\\u00edclico/Bebidas\",\"Comput e Equip/Computadores e Equipamentos\",\"Consumo C\\u00edclico/Com\\u00e9rcio\",\"Consumo N\\u00e3o-C\\u00edclico/Com\\u00e9rcio e Distribui\\u00e7\\u00e3o\",\"Sa\\u00fade/Com\\u00e9rcio e Distribui\\u00e7\\u00e3o\",\"Consumo C\\u00edclico/Constru\\u00e7\\u00e3o Civil\",\"Diversos/Diversos\",\"Utilidade P\\u00fablica/Energia El\\u00e9trica\",\"Financeiro/Explora\\u00e7\\u00e3o de Im\\u00f3veis\",\"Financeiro/Intermedi\\u00e1rios Financeiro\",\"Materiais B\\u00e1sicos/Madeira e Papel\",\"Bens Industriais/Material de Transporte\",\"Materiais B\\u00e1sicos/Minera\\u00e7\\u00e3o\",\"Bens Industriais/M\\u00e1quinas e Equipamentos\",\"Petr\\u00f3leo/Petr\\u00f3leo, G\\u00e1s e Biocombust\\u00edveis\",\"Financeiro/Previd\\u00eancia e Seguros\",\"Consumo N\\u00e3o-C\\u00edclico/Produtos Limpeza\",\"Tecnologia da Informa\\u00e7\\u00e3o/Programas e Servi\\u00e7os\",\"Materiais B\\u00e1sicos/Qu\\u00edmicos\",\"Financeiro/Servi\\u00e7os Financeiros Diversos\",\"Sa\\u00fade/Servi\\u00e7os M\\u00e9dicos - Hospitalares, An\\u00e1lises e Diagn\\u00f3sticos\",\"Materiais B\\u00e1sicos/Siderurgia e Metalurgia\",\"Consumo C\\u00edclico/Tecido, Vestu\\u00e1rio e Cal\\u00e7ados\",\"Comunica\\u00e7\\u00e3o/Telecomunica\\u00e7\\u00e3o\",\"Bens Industriais/Transporte\",\"Consumo C\\u00edclico/Viagens e Lazer\",\"Utilidade P\\u00fablica/\\u00c1gua Saneamento\",\"Bens Industriais\",\"Comput e Equip\",\"Comunica\\u00e7\\u00e3o\",\"Cons N Ciclico\",\"Consumo C\\u00edclico\",\"Consumo N\\u00e3o-C\\u00edclico\",\"Diversos\",\"Financeiro\",\"Materiais B\\u00e1sicos\",\"Petr\\u00f3leo\",\"Sa\\u00fade\",\"Tecnologia da Informa\\u00e7\\u00e3o\",\"Utilidade P\\u00fablica\"],\"labels\":[\"ABEV3\",\"ALPA4\",\"AMER3\",\"ASAI3\",\"AZUL4\",\"B3SA3\",\"BBAS3\",\"BBDC3\",\"BBDC4\",\"BBSE3\",\"BEEF3\",\"BIDI11\",\"BPAC11\",\"BPAN4\",\"BRAP4\",\"BRFS3\",\"BRKM5\",\"BRML3\",\"CASH3\",\"CCRO3\",\"CIEL3\",\"CMIG4\",\"CMIN3\",\"COGN3\",\"CPFE3\",\"CPLE6\",\"CRFB3\",\"CSAN3\",\"CSNA3\",\"CVCB3\",\"CYRE3\",\"DXCO3\",\"ECOR3\",\"EGIE3\",\"ELET3\",\"ELET6\",\"EMBR3\",\"ENBR3\",\"ENEV3\",\"ENGI11\",\"EQTL3\",\"EZTC3\",\"FLRY3\",\"GGBR4\",\"GOAU4\",\"GOLL4\",\"HAPV3\",\"HYPE3\",\"IGTI11\",\"IRBR3\",\"ITSA4\",\"ITUB4\",\"JBSS3\",\"JHSF3\",\"KLBN11\",\"LCAM3\",\"LREN3\",\"LWSA3\",\"MGLU3\",\"MRFG3\",\"MRVE3\",\"MULT3\",\"NTCO3\",\"PCAR3\",\"PETR3\",\"PETR4\",\"PETZ3\",\"POSI3\",\"PRIO3\",\"QUAL3\",\"RADL3\",\"RAIL3\",\"RDOR3\",\"RENT3\",\"RRRP3\",\"SANB11\",\"SBSP3\",\"SLCE3\",\"SOMA3\",\"SULA11\",\"SUZB3\",\"TAEE11\",\"TIMS3\",\"TOTS3\",\"UGPA3\",\"USIM5\",\"VALE3\",\"VBBR3\",\"VIIA3\",\"VIVT3\",\"WEGE3\",\"YDUQ3\",\"Agropecu\\u00e1ria\",\"Alimentos Processados\",\"Bebidas\",\"Computadores e Equipamentos\",\"Com\\u00e9rcio\",\"Com\\u00e9rcio e Distribui\\u00e7\\u00e3o\",\"Com\\u00e9rcio e Distribui\\u00e7\\u00e3o\",\"Constru\\u00e7\\u00e3o Civil\",\"Diversos\",\"Energia El\\u00e9trica\",\"Explora\\u00e7\\u00e3o de Im\\u00f3veis\",\"Intermedi\\u00e1rios Financeiro\",\"Madeira e Papel\",\"Material de Transporte\",\"Minera\\u00e7\\u00e3o\",\"M\\u00e1quinas e Equipamentos\",\"Petr\\u00f3leo, G\\u00e1s e Biocombust\\u00edveis\",\"Previd\\u00eancia e Seguros\",\"Produtos Limpeza\",\"Programas e Servi\\u00e7os\",\"Qu\\u00edmicos\",\"Servi\\u00e7os Financeiros Diversos\",\"Servi\\u00e7os M\\u00e9dicos - Hospitalares, An\\u00e1lises e Diagn\\u00f3sticos\",\"Siderurgia e Metalurgia\",\"Tecido, Vestu\\u00e1rio e Cal\\u00e7ados\",\"Telecomunica\\u00e7\\u00e3o\",\"Transporte\",\"Viagens e Lazer\",\"\\u00c1gua Saneamento\",\"Bens Industriais\",\"Comput e Equip\",\"Comunica\\u00e7\\u00e3o\",\"Cons N Ciclico\",\"Consumo C\\u00edclico\",\"Consumo N\\u00e3o-C\\u00edclico\",\"Diversos\",\"Financeiro\",\"Materiais B\\u00e1sicos\",\"Petr\\u00f3leo\",\"Sa\\u00fade\",\"Tecnologia da Informa\\u00e7\\u00e3o\",\"Utilidade P\\u00fablica\"],\"name\":\"\",\"parents\":[\"Consumo N\\u00e3o-C\\u00edclico/Bebidas\",\"Consumo C\\u00edclico/Tecido, Vestu\\u00e1rio e Cal\\u00e7ados\",\"Consumo C\\u00edclico/Com\\u00e9rcio\",\"Consumo N\\u00e3o-C\\u00edclico/Com\\u00e9rcio e Distribui\\u00e7\\u00e3o\",\"Bens Industriais/Transporte\",\"Financeiro/Servi\\u00e7os Financeiros Diversos\",\"Financeiro/Intermedi\\u00e1rios Financeiro\",\"Financeiro/Intermedi\\u00e1rios Financeiro\",\"Financeiro/Intermedi\\u00e1rios Financeiro\",\"Financeiro/Previd\\u00eancia e Seguros\",\"Consumo N\\u00e3o-C\\u00edclico/Alimentos Processados\",\"Financeiro/Intermedi\\u00e1rios Financeiro\",\"Financeiro/Intermedi\\u00e1rios Financeiro\",\"Financeiro/Intermedi\\u00e1rios Financeiro\",\"Materiais B\\u00e1sicos/Minera\\u00e7\\u00e3o\",\"Consumo N\\u00e3o-C\\u00edclico/Alimentos Processados\",\"Materiais B\\u00e1sicos/Qu\\u00edmicos\",\"Financeiro/Explora\\u00e7\\u00e3o de Im\\u00f3veis\",\"Tecnologia da Informa\\u00e7\\u00e3o/Programas e Servi\\u00e7os\",\"Bens Industriais/Transporte\",\"Financeiro/Servi\\u00e7os Financeiros Diversos\",\"Utilidade P\\u00fablica/Energia El\\u00e9trica\",\"Materiais B\\u00e1sicos/Minera\\u00e7\\u00e3o\",\"Diversos/Diversos\",\"Utilidade P\\u00fablica/Energia El\\u00e9trica\",\"Utilidade P\\u00fablica/Energia El\\u00e9trica\",\"Consumo N\\u00e3o-C\\u00edclico/Com\\u00e9rcio e Distribui\\u00e7\\u00e3o\",\"Petr\\u00f3leo/Petr\\u00f3leo, G\\u00e1s e Biocombust\\u00edveis\",\"Materiais B\\u00e1sicos/Siderurgia e Metalurgia\",\"Consumo C\\u00edclico/Viagens e Lazer\",\"Consumo C\\u00edclico/Constru\\u00e7\\u00e3o Civil\",\"Materiais B\\u00e1sicos/Madeira e Papel\",\"Bens Industriais/Transporte\",\"Utilidade P\\u00fablica/Energia El\\u00e9trica\",\"Utilidade P\\u00fablica/Energia El\\u00e9trica\",\"Utilidade P\\u00fablica/Energia El\\u00e9trica\",\"Bens Industriais/Material de Transporte\",\"Utilidade P\\u00fablica/Energia El\\u00e9trica\",\"Utilidade P\\u00fablica/Energia El\\u00e9trica\",\"Utilidade P\\u00fablica/Energia El\\u00e9trica\",\"Utilidade P\\u00fablica/Energia El\\u00e9trica\",\"Consumo C\\u00edclico/Constru\\u00e7\\u00e3o Civil\",\"Sa\\u00fade/Servi\\u00e7os M\\u00e9dicos - Hospitalares, An\\u00e1lises e Diagn\\u00f3sticos\",\"Materiais B\\u00e1sicos/Siderurgia e Metalurgia\",\"Materiais B\\u00e1sicos/Siderurgia e Metalurgia\",\"Bens Industriais/Transporte\",\"Sa\\u00fade/Servi\\u00e7os M\\u00e9dicos - Hospitalares, An\\u00e1lises e Diagn\\u00f3sticos\",\"Sa\\u00fade/Com\\u00e9rcio e Distribui\\u00e7\\u00e3o\",\"Financeiro/Explora\\u00e7\\u00e3o de Im\\u00f3veis\",\"Financeiro/Previd\\u00eancia e Seguros\",\"Financeiro/Intermedi\\u00e1rios Financeiro\",\"Financeiro/Intermedi\\u00e1rios Financeiro\",\"Consumo N\\u00e3o-C\\u00edclico/Alimentos Processados\",\"Consumo C\\u00edclico/Constru\\u00e7\\u00e3o Civil\",\"Materiais B\\u00e1sicos/Madeira e Papel\",\"Diversos/Diversos\",\"Consumo C\\u00edclico/Com\\u00e9rcio\",\"Tecnologia da Informa\\u00e7\\u00e3o/Programas e Servi\\u00e7os\",\"Consumo C\\u00edclico/Com\\u00e9rcio\",\"Consumo N\\u00e3o-C\\u00edclico/Alimentos Processados\",\"Consumo C\\u00edclico/Constru\\u00e7\\u00e3o Civil\",\"Financeiro/Explora\\u00e7\\u00e3o de Im\\u00f3veis\",\"Consumo N\\u00e3o-C\\u00edclico/Produtos Limpeza\",\"Consumo N\\u00e3o-C\\u00edclico/Com\\u00e9rcio e Distribui\\u00e7\\u00e3o\",\"Petr\\u00f3leo/Petr\\u00f3leo, G\\u00e1s e Biocombust\\u00edveis\",\"Petr\\u00f3leo/Petr\\u00f3leo, G\\u00e1s e Biocombust\\u00edveis\",\"Consumo C\\u00edclico/Com\\u00e9rcio\",\"Comput e Equip/Computadores e Equipamentos\",\"Petr\\u00f3leo/Petr\\u00f3leo, G\\u00e1s e Biocombust\\u00edveis\",\"Sa\\u00fade/Servi\\u00e7os M\\u00e9dicos - Hospitalares, An\\u00e1lises e Diagn\\u00f3sticos\",\"Sa\\u00fade/Com\\u00e9rcio e Distribui\\u00e7\\u00e3o\",\"Bens Industriais/Transporte\",\"Sa\\u00fade/Servi\\u00e7os M\\u00e9dicos - Hospitalares, An\\u00e1lises e Diagn\\u00f3sticos\",\"Diversos/Diversos\",\"Petr\\u00f3leo/Petr\\u00f3leo, G\\u00e1s e Biocombust\\u00edveis\",\"Financeiro/Intermedi\\u00e1rios Financeiro\",\"Utilidade P\\u00fablica/\\u00c1gua Saneamento\",\"Cons N Ciclico/Agropecu\\u00e1ria\",\"Consumo C\\u00edclico/Com\\u00e9rcio\",\"Financeiro/Previd\\u00eancia e Seguros\",\"Materiais B\\u00e1sicos/Madeira e Papel\",\"Utilidade P\\u00fablica/Energia El\\u00e9trica\",\"Comunica\\u00e7\\u00e3o/Telecomunica\\u00e7\\u00e3o\",\"Tecnologia da Informa\\u00e7\\u00e3o/Programas e Servi\\u00e7os\",\"Petr\\u00f3leo/Petr\\u00f3leo, G\\u00e1s e Biocombust\\u00edveis\",\"Materiais B\\u00e1sicos/Siderurgia e Metalurgia\",\"Materiais B\\u00e1sicos/Minera\\u00e7\\u00e3o\",\"Petr\\u00f3leo/Petr\\u00f3leo, G\\u00e1s e Biocombust\\u00edveis\",\"Consumo C\\u00edclico/Com\\u00e9rcio\",\"Comunica\\u00e7\\u00e3o/Telecomunica\\u00e7\\u00e3o\",\"Bens Industriais/M\\u00e1quinas e Equipamentos\",\"Diversos/Diversos\",\"Cons N Ciclico\",\"Consumo N\\u00e3o-C\\u00edclico\",\"Consumo N\\u00e3o-C\\u00edclico\",\"Comput e Equip\",\"Consumo C\\u00edclico\",\"Consumo N\\u00e3o-C\\u00edclico\",\"Sa\\u00fade\",\"Consumo C\\u00edclico\",\"Diversos\",\"Utilidade P\\u00fablica\",\"Financeiro\",\"Financeiro\",\"Materiais B\\u00e1sicos\",\"Bens Industriais\",\"Materiais B\\u00e1sicos\",\"Bens Industriais\",\"Petr\\u00f3leo\",\"Financeiro\",\"Consumo N\\u00e3o-C\\u00edclico\",\"Tecnologia da Informa\\u00e7\\u00e3o\",\"Materiais B\\u00e1sicos\",\"Financeiro\",\"Sa\\u00fade\",\"Materiais B\\u00e1sicos\",\"Consumo C\\u00edclico\",\"Comunica\\u00e7\\u00e3o\",\"Bens Industriais\",\"Consumo C\\u00edclico\",\"Utilidade P\\u00fablica\",\"\",\"\",\"\",\"\",\"\",\"\",\"\",\"\",\"\",\"\",\"\",\"\",\"\"],\"values\":[3.07,0.2,0.468,0.616,0.26,3.601,2.532,1.245,5.086,0.852,0.187,0.307,1.506,0.12,0.374,0.833,0.603,0.344,0.044,0.751,0.223,0.815,0.302,0.237,0.309,0.56,0.378,1.192,0.65,0.108,0.177,0.161,0.118,0.539,0.757,0.498,0.457,0.243,0.932,0.544,1.371,0.079,0.237,1.554,0.425,0.1,1.381,0.823,0.17,0.179,2.172,5.943,2.315,0.104,0.896,0.384,1.214,0.136,0.433,0.274,0.128,0.318,0.674,0.159,4.594,6.983,0.193,0.028,1.173,0.174,1.149,1.095,1.322,1.588,0.461,0.582,0.755,0.262,0.253,0.363,1.938,0.455,0.533,0.703,0.715,0.268,16.437,1.016,0.233,0.999,1.838,0.222,0.262,3.609,3.07,0.028,2.794,1.153,1.972,0.488,2.431,7.023,0.832,19.493000000000002,2.995,0.457,17.113,1.838,16.134,1.394,0.674,0.883,0.603,3.824,3.114,2.8970000000000002,0.2,1.532,2.324,0.108,0.755,4.619,0.028,1.532,0.262,3.59,8.506,2.431,25.543,23.608,16.134,5.086,0.883,7.778],\"type\":\"treemap\",\"textfont\":{\"color\":\"white\",\"size\":14}}],                        {\"template\":{\"data\":{\"histogram2dcontour\":[{\"type\":\"histogram2dcontour\",\"colorbar\":{\"outlinewidth\":0,\"ticks\":\"\"},\"colorscale\":[[0.0,\"#0d0887\"],[0.1111111111111111,\"#46039f\"],[0.2222222222222222,\"#7201a8\"],[0.3333333333333333,\"#9c179e\"],[0.4444444444444444,\"#bd3786\"],[0.5555555555555556,\"#d8576b\"],[0.6666666666666666,\"#ed7953\"],[0.7777777777777778,\"#fb9f3a\"],[0.8888888888888888,\"#fdca26\"],[1.0,\"#f0f921\"]]}],\"choropleth\":[{\"type\":\"choropleth\",\"colorbar\":{\"outlinewidth\":0,\"ticks\":\"\"}}],\"histogram2d\":[{\"type\":\"histogram2d\",\"colorbar\":{\"outlinewidth\":0,\"ticks\":\"\"},\"colorscale\":[[0.0,\"#0d0887\"],[0.1111111111111111,\"#46039f\"],[0.2222222222222222,\"#7201a8\"],[0.3333333333333333,\"#9c179e\"],[0.4444444444444444,\"#bd3786\"],[0.5555555555555556,\"#d8576b\"],[0.6666666666666666,\"#ed7953\"],[0.7777777777777778,\"#fb9f3a\"],[0.8888888888888888,\"#fdca26\"],[1.0,\"#f0f921\"]]}],\"heatmap\":[{\"type\":\"heatmap\",\"colorbar\":{\"outlinewidth\":0,\"ticks\":\"\"},\"colorscale\":[[0.0,\"#0d0887\"],[0.1111111111111111,\"#46039f\"],[0.2222222222222222,\"#7201a8\"],[0.3333333333333333,\"#9c179e\"],[0.4444444444444444,\"#bd3786\"],[0.5555555555555556,\"#d8576b\"],[0.6666666666666666,\"#ed7953\"],[0.7777777777777778,\"#fb9f3a\"],[0.8888888888888888,\"#fdca26\"],[1.0,\"#f0f921\"]]}],\"heatmapgl\":[{\"type\":\"heatmapgl\",\"colorbar\":{\"outlinewidth\":0,\"ticks\":\"\"},\"colorscale\":[[0.0,\"#0d0887\"],[0.1111111111111111,\"#46039f\"],[0.2222222222222222,\"#7201a8\"],[0.3333333333333333,\"#9c179e\"],[0.4444444444444444,\"#bd3786\"],[0.5555555555555556,\"#d8576b\"],[0.6666666666666666,\"#ed7953\"],[0.7777777777777778,\"#fb9f3a\"],[0.8888888888888888,\"#fdca26\"],[1.0,\"#f0f921\"]]}],\"contourcarpet\":[{\"type\":\"contourcarpet\",\"colorbar\":{\"outlinewidth\":0,\"ticks\":\"\"}}],\"contour\":[{\"type\":\"contour\",\"colorbar\":{\"outlinewidth\":0,\"ticks\":\"\"},\"colorscale\":[[0.0,\"#0d0887\"],[0.1111111111111111,\"#46039f\"],[0.2222222222222222,\"#7201a8\"],[0.3333333333333333,\"#9c179e\"],[0.4444444444444444,\"#bd3786\"],[0.5555555555555556,\"#d8576b\"],[0.6666666666666666,\"#ed7953\"],[0.7777777777777778,\"#fb9f3a\"],[0.8888888888888888,\"#fdca26\"],[1.0,\"#f0f921\"]]}],\"surface\":[{\"type\":\"surface\",\"colorbar\":{\"outlinewidth\":0,\"ticks\":\"\"},\"colorscale\":[[0.0,\"#0d0887\"],[0.1111111111111111,\"#46039f\"],[0.2222222222222222,\"#7201a8\"],[0.3333333333333333,\"#9c179e\"],[0.4444444444444444,\"#bd3786\"],[0.5555555555555556,\"#d8576b\"],[0.6666666666666666,\"#ed7953\"],[0.7777777777777778,\"#fb9f3a\"],[0.8888888888888888,\"#fdca26\"],[1.0,\"#f0f921\"]]}],\"mesh3d\":[{\"type\":\"mesh3d\",\"colorbar\":{\"outlinewidth\":0,\"ticks\":\"\"}}],\"scatter\":[{\"fillpattern\":{\"fillmode\":\"overlay\",\"size\":10,\"solidity\":0.2},\"type\":\"scatter\"}],\"parcoords\":[{\"type\":\"parcoords\",\"line\":{\"colorbar\":{\"outlinewidth\":0,\"ticks\":\"\"}}}],\"scatterpolargl\":[{\"type\":\"scatterpolargl\",\"marker\":{\"colorbar\":{\"outlinewidth\":0,\"ticks\":\"\"}}}],\"bar\":[{\"error_x\":{\"color\":\"#2a3f5f\"},\"error_y\":{\"color\":\"#2a3f5f\"},\"marker\":{\"line\":{\"color\":\"#E5ECF6\",\"width\":0.5},\"pattern\":{\"fillmode\":\"overlay\",\"size\":10,\"solidity\":0.2}},\"type\":\"bar\"}],\"scattergeo\":[{\"type\":\"scattergeo\",\"marker\":{\"colorbar\":{\"outlinewidth\":0,\"ticks\":\"\"}}}],\"scatterpolar\":[{\"type\":\"scatterpolar\",\"marker\":{\"colorbar\":{\"outlinewidth\":0,\"ticks\":\"\"}}}],\"histogram\":[{\"marker\":{\"pattern\":{\"fillmode\":\"overlay\",\"size\":10,\"solidity\":0.2}},\"type\":\"histogram\"}],\"scattergl\":[{\"type\":\"scattergl\",\"marker\":{\"colorbar\":{\"outlinewidth\":0,\"ticks\":\"\"}}}],\"scatter3d\":[{\"type\":\"scatter3d\",\"line\":{\"colorbar\":{\"outlinewidth\":0,\"ticks\":\"\"}},\"marker\":{\"colorbar\":{\"outlinewidth\":0,\"ticks\":\"\"}}}],\"scattermapbox\":[{\"type\":\"scattermapbox\",\"marker\":{\"colorbar\":{\"outlinewidth\":0,\"ticks\":\"\"}}}],\"scatterternary\":[{\"type\":\"scatterternary\",\"marker\":{\"colorbar\":{\"outlinewidth\":0,\"ticks\":\"\"}}}],\"scattercarpet\":[{\"type\":\"scattercarpet\",\"marker\":{\"colorbar\":{\"outlinewidth\":0,\"ticks\":\"\"}}}],\"carpet\":[{\"aaxis\":{\"endlinecolor\":\"#2a3f5f\",\"gridcolor\":\"white\",\"linecolor\":\"white\",\"minorgridcolor\":\"white\",\"startlinecolor\":\"#2a3f5f\"},\"baxis\":{\"endlinecolor\":\"#2a3f5f\",\"gridcolor\":\"white\",\"linecolor\":\"white\",\"minorgridcolor\":\"white\",\"startlinecolor\":\"#2a3f5f\"},\"type\":\"carpet\"}],\"table\":[{\"cells\":{\"fill\":{\"color\":\"#EBF0F8\"},\"line\":{\"color\":\"white\"}},\"header\":{\"fill\":{\"color\":\"#C8D4E3\"},\"line\":{\"color\":\"white\"}},\"type\":\"table\"}],\"barpolar\":[{\"marker\":{\"line\":{\"color\":\"#E5ECF6\",\"width\":0.5},\"pattern\":{\"fillmode\":\"overlay\",\"size\":10,\"solidity\":0.2}},\"type\":\"barpolar\"}],\"pie\":[{\"automargin\":true,\"type\":\"pie\"}]},\"layout\":{\"autotypenumbers\":\"strict\",\"colorway\":[\"#636efa\",\"#EF553B\",\"#00cc96\",\"#ab63fa\",\"#FFA15A\",\"#19d3f3\",\"#FF6692\",\"#B6E880\",\"#FF97FF\",\"#FECB52\"],\"font\":{\"color\":\"#2a3f5f\"},\"hovermode\":\"closest\",\"hoverlabel\":{\"align\":\"left\"},\"paper_bgcolor\":\"white\",\"plot_bgcolor\":\"#E5ECF6\",\"polar\":{\"bgcolor\":\"#E5ECF6\",\"angularaxis\":{\"gridcolor\":\"white\",\"linecolor\":\"white\",\"ticks\":\"\"},\"radialaxis\":{\"gridcolor\":\"white\",\"linecolor\":\"white\",\"ticks\":\"\"}},\"ternary\":{\"bgcolor\":\"#E5ECF6\",\"aaxis\":{\"gridcolor\":\"white\",\"linecolor\":\"white\",\"ticks\":\"\"},\"baxis\":{\"gridcolor\":\"white\",\"linecolor\":\"white\",\"ticks\":\"\"},\"caxis\":{\"gridcolor\":\"white\",\"linecolor\":\"white\",\"ticks\":\"\"}},\"coloraxis\":{\"colorbar\":{\"outlinewidth\":0,\"ticks\":\"\"}},\"colorscale\":{\"sequential\":[[0.0,\"#0d0887\"],[0.1111111111111111,\"#46039f\"],[0.2222222222222222,\"#7201a8\"],[0.3333333333333333,\"#9c179e\"],[0.4444444444444444,\"#bd3786\"],[0.5555555555555556,\"#d8576b\"],[0.6666666666666666,\"#ed7953\"],[0.7777777777777778,\"#fb9f3a\"],[0.8888888888888888,\"#fdca26\"],[1.0,\"#f0f921\"]],\"sequentialminus\":[[0.0,\"#0d0887\"],[0.1111111111111111,\"#46039f\"],[0.2222222222222222,\"#7201a8\"],[0.3333333333333333,\"#9c179e\"],[0.4444444444444444,\"#bd3786\"],[0.5555555555555556,\"#d8576b\"],[0.6666666666666666,\"#ed7953\"],[0.7777777777777778,\"#fb9f3a\"],[0.8888888888888888,\"#fdca26\"],[1.0,\"#f0f921\"]],\"diverging\":[[0,\"#8e0152\"],[0.1,\"#c51b7d\"],[0.2,\"#de77ae\"],[0.3,\"#f1b6da\"],[0.4,\"#fde0ef\"],[0.5,\"#f7f7f7\"],[0.6,\"#e6f5d0\"],[0.7,\"#b8e186\"],[0.8,\"#7fbc41\"],[0.9,\"#4d9221\"],[1,\"#276419\"]]},\"xaxis\":{\"gridcolor\":\"white\",\"linecolor\":\"white\",\"ticks\":\"\",\"title\":{\"standoff\":15},\"zerolinecolor\":\"white\",\"automargin\":true,\"zerolinewidth\":2},\"yaxis\":{\"gridcolor\":\"white\",\"linecolor\":\"white\",\"ticks\":\"\",\"title\":{\"standoff\":15},\"zerolinecolor\":\"white\",\"automargin\":true,\"zerolinewidth\":2},\"scene\":{\"xaxis\":{\"backgroundcolor\":\"#E5ECF6\",\"gridcolor\":\"white\",\"linecolor\":\"white\",\"showbackground\":true,\"ticks\":\"\",\"zerolinecolor\":\"white\",\"gridwidth\":2},\"yaxis\":{\"backgroundcolor\":\"#E5ECF6\",\"gridcolor\":\"white\",\"linecolor\":\"white\",\"showbackground\":true,\"ticks\":\"\",\"zerolinecolor\":\"white\",\"gridwidth\":2},\"zaxis\":{\"backgroundcolor\":\"#E5ECF6\",\"gridcolor\":\"white\",\"linecolor\":\"white\",\"showbackground\":true,\"ticks\":\"\",\"zerolinecolor\":\"white\",\"gridwidth\":2}},\"shapedefaults\":{\"line\":{\"color\":\"#2a3f5f\"}},\"annotationdefaults\":{\"arrowcolor\":\"#2a3f5f\",\"arrowhead\":0,\"arrowwidth\":1},\"geo\":{\"bgcolor\":\"white\",\"landcolor\":\"#E5ECF6\",\"subunitcolor\":\"white\",\"showland\":true,\"showlakes\":true,\"lakecolor\":\"white\"},\"title\":{\"x\":0.05},\"mapbox\":{\"style\":\"light\"}}},\"legend\":{\"tracegroupgap\":0},\"margin\":{\"t\":60},\"height\":800,\"width\":800},                        {\"responsive\": true}                    ).then(function(){\n",
              "                            \n",
              "var gd = document.getElementById('176e530d-252b-45a3-bb18-5ea7321a8074');\n",
              "var x = new MutationObserver(function (mutations, observer) {{\n",
              "        var display = window.getComputedStyle(gd).display;\n",
              "        if (!display || display === 'none') {{\n",
              "            console.log([gd, 'removed!']);\n",
              "            Plotly.purge(gd);\n",
              "            observer.disconnect();\n",
              "        }}\n",
              "}});\n",
              "\n",
              "// Listen for the removal of the full notebook cells\n",
              "var notebookContainer = gd.closest('#notebook-container');\n",
              "if (notebookContainer) {{\n",
              "    x.observe(notebookContainer, {childList: true});\n",
              "}}\n",
              "\n",
              "// Listen for the clearing of the current output cell\n",
              "var outputEl = gd.closest('.output');\n",
              "if (outputEl) {{\n",
              "    x.observe(outputEl, {childList: true});\n",
              "}}\n",
              "\n",
              "                        })                };                            </script>        </div>\n",
              "</body>\n",
              "</html>"
            ]
          },
          "metadata": {}
        }
      ],
      "source": [
        "#TREEMAP\n",
        "\n",
        "fig2=pl.treemap(data_frame=base,path=['Setor','SubSetor','Código'], values='Part. (%)', height=800, width=800)\n",
        "fig2.update_traces(textfont_color='white',\n",
        "                  textfont_size=14,\n",
        "                  hovertemplate='<b>%{label}:</b> %{value:.2f}%')"
      ]
    },
    {
      "cell_type": "code",
      "source": [
        ""
      ],
      "metadata": {
        "id": "RLS9yl0cizL5"
      },
      "execution_count": null,
      "outputs": []
    }
  ],
  "metadata": {
    "colab": {
      "collapsed_sections": [
        "LzfwRwhPX9jv",
        "ykTv-bZNZg55",
        "XGZgADe4Zo5f",
        "Gkck4icaZJJH"
      ],
      "name": "IBOV_carteira_hipotética_diária",
      "provenance": [],
      "authorship_tag": "ABX9TyMmf7y6zQ91MICcJ5lTt3U2",
      "include_colab_link": true
    },
    "kernelspec": {
      "display_name": "Python 3",
      "name": "python3"
    },
    "language_info": {
      "name": "python"
    }
  },
  "nbformat": 4,
  "nbformat_minor": 0
}